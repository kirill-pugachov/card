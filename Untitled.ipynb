{
 "cells": [
  {
   "cell_type": "code",
   "execution_count": 340,
   "metadata": {},
   "outputs": [],
   "source": [
    "import pandas as pd\n",
    "import time\n",
    "import datetime"
   ]
  },
  {
   "cell_type": "code",
   "execution_count": 341,
   "metadata": {},
   "outputs": [],
   "source": [
    "PATH_TO_DATA = 'Data'\n",
    "TEST_FILE = 'test_ds.csv'\n",
    "TRAIN_FILE = 'train_ds.csv'"
   ]
  },
  {
   "cell_type": "code",
   "execution_count": 342,
   "metadata": {},
   "outputs": [],
   "source": [
    "def read_data(folder, file):\n",
    "    df = pd.read_csv(folder + '/' + file)\n",
    "    return df"
   ]
  },
  {
   "cell_type": "code",
   "execution_count": 343,
   "metadata": {},
   "outputs": [],
   "source": [
    "train_df = read_data(PATH_TO_DATA, TRAIN_FILE)"
   ]
  },
  {
   "cell_type": "code",
   "execution_count": 344,
   "metadata": {},
   "outputs": [
    {
     "name": "stdout",
     "output_type": "stream",
     "text": [
      "<class 'pandas.core.frame.DataFrame'>\n",
      "RangeIndex: 92700 entries, 0 to 92699\n",
      "Data columns (total 9 columns):\n",
      "cgsettlementbufferid    92700 non-null int64\n",
      "mcc                     92700 non-null int64\n",
      "tranccy                 92700 non-null int64\n",
      "ccy                     92700 non-null int64\n",
      "amount                  92700 non-null int64\n",
      "location                92700 non-null object\n",
      "trandatetime            92700 non-null int64\n",
      "sexid                   92700 non-null int64\n",
      "clientid                92700 non-null int64\n",
      "dtypes: int64(8), object(1)\n",
      "memory usage: 6.4+ MB\n"
     ]
    }
   ],
   "source": [
    "train_df.info()"
   ]
  },
  {
   "cell_type": "code",
   "execution_count": 345,
   "metadata": {},
   "outputs": [],
   "source": [
    "test_df = read_data(PATH_TO_DATA, TEST_FILE)"
   ]
  },
  {
   "cell_type": "code",
   "execution_count": 346,
   "metadata": {},
   "outputs": [
    {
     "name": "stdout",
     "output_type": "stream",
     "text": [
      "<class 'pandas.core.frame.DataFrame'>\n",
      "RangeIndex: 40559 entries, 0 to 40558\n",
      "Data columns (total 8 columns):\n",
      "cgsettlementbufferid    40559 non-null int64\n",
      "mcc                     40559 non-null int64\n",
      "tranccy                 40559 non-null int64\n",
      "ccy                     40559 non-null int64\n",
      "amount                  40559 non-null int64\n",
      "location                40559 non-null object\n",
      "trandatetime            40559 non-null int64\n",
      "clientid                40559 non-null int64\n",
      "dtypes: int64(7), object(1)\n",
      "memory usage: 2.5+ MB\n"
     ]
    }
   ],
   "source": [
    "test_df.info()"
   ]
  },
  {
   "cell_type": "code",
   "execution_count": 347,
   "metadata": {},
   "outputs": [],
   "source": [
    "cat_train_df = train_df.drop(['cgsettlementbufferid', 'sexid', 'clientid', 'amount'], axis=1)"
   ]
  },
  {
   "cell_type": "code",
   "execution_count": 348,
   "metadata": {},
   "outputs": [
    {
     "name": "stdout",
     "output_type": "stream",
     "text": [
      "<class 'pandas.core.frame.DataFrame'>\n",
      "RangeIndex: 92700 entries, 0 to 92699\n",
      "Data columns (total 5 columns):\n",
      "mcc             92700 non-null int64\n",
      "tranccy         92700 non-null int64\n",
      "ccy             92700 non-null int64\n",
      "location        92700 non-null object\n",
      "trandatetime    92700 non-null int64\n",
      "dtypes: int64(4), object(1)\n",
      "memory usage: 3.5+ MB\n"
     ]
    }
   ],
   "source": [
    "cat_train_df.info()"
   ]
  },
  {
   "cell_type": "code",
   "execution_count": 349,
   "metadata": {},
   "outputs": [],
   "source": [
    "cat_test_df = test_df.drop(['cgsettlementbufferid', 'clientid', 'amount'], axis=1)"
   ]
  },
  {
   "cell_type": "code",
   "execution_count": 350,
   "metadata": {},
   "outputs": [
    {
     "name": "stdout",
     "output_type": "stream",
     "text": [
      "<class 'pandas.core.frame.DataFrame'>\n",
      "RangeIndex: 40559 entries, 0 to 40558\n",
      "Data columns (total 5 columns):\n",
      "mcc             40559 non-null int64\n",
      "tranccy         40559 non-null int64\n",
      "ccy             40559 non-null int64\n",
      "location        40559 non-null object\n",
      "trandatetime    40559 non-null int64\n",
      "dtypes: int64(4), object(1)\n",
      "memory usage: 1.5+ MB\n"
     ]
    }
   ],
   "source": [
    "cat_test_df.info()"
   ]
  },
  {
   "cell_type": "code",
   "execution_count": 351,
   "metadata": {},
   "outputs": [],
   "source": [
    "cat_df = cat_train_df.append(cat_test_df)"
   ]
  },
  {
   "cell_type": "code",
   "execution_count": 352,
   "metadata": {},
   "outputs": [
    {
     "name": "stdout",
     "output_type": "stream",
     "text": [
      "<class 'pandas.core.frame.DataFrame'>\n",
      "Int64Index: 133259 entries, 0 to 40558\n",
      "Data columns (total 5 columns):\n",
      "mcc             133259 non-null int64\n",
      "tranccy         133259 non-null int64\n",
      "ccy             133259 non-null int64\n",
      "location        133259 non-null object\n",
      "trandatetime    133259 non-null int64\n",
      "dtypes: int64(4), object(1)\n",
      "memory usage: 6.1+ MB\n"
     ]
    }
   ],
   "source": [
    "cat_df.info()"
   ]
  },
  {
   "cell_type": "code",
   "execution_count": 353,
   "metadata": {},
   "outputs": [],
   "source": [
    "import datetime\n",
    "import time"
   ]
  },
  {
   "cell_type": "code",
   "execution_count": 354,
   "metadata": {},
   "outputs": [],
   "source": [
    "def get_day(timestamp):\n",
    "    day = datetime.datetime.fromtimestamp(1525122000).strftime('%A')\n",
    "    return day"
   ]
  },
  {
   "cell_type": "code",
   "execution_count": 355,
   "metadata": {},
   "outputs": [],
   "source": [
    "def get_month(timestamp):\n",
    "    month = datetime.datetime.fromtimestamp(1525122000).strftime('%B')\n",
    "    return month"
   ]
  },
  {
   "cell_type": "code",
   "execution_count": 356,
   "metadata": {},
   "outputs": [],
   "source": [
    "def get_year(timestamp):\n",
    "    year = datetime.datetime.fromtimestamp(1525122000).strftime('%Y')\n",
    "    return year"
   ]
  },
  {
   "cell_type": "code",
   "execution_count": 357,
   "metadata": {},
   "outputs": [],
   "source": [
    "def get_hour(timestamp):\n",
    "    hour = datetime.datetime.fromtimestamp(1525122000).strftime('%H')\n",
    "    return hour"
   ]
  },
  {
   "cell_type": "code",
   "execution_count": 358,
   "metadata": {},
   "outputs": [],
   "source": [
    "def get_country(local):\n",
    "    country = local[36:].strip()\n",
    "    return country    "
   ]
  },
  {
   "cell_type": "code",
   "execution_count": 359,
   "metadata": {},
   "outputs": [],
   "source": [
    "def get_city(local):\n",
    "    city = local[23:36].strip()\n",
    "    return city"
   ]
  },
  {
   "cell_type": "code",
   "execution_count": 360,
   "metadata": {},
   "outputs": [],
   "source": [
    "def get_inst(local):\n",
    "    inst = local[0:22].strip()\n",
    "    return inst"
   ]
  },
  {
   "cell_type": "code",
   "execution_count": 361,
   "metadata": {},
   "outputs": [],
   "source": [
    "cat_df['year'] = cat_df['trandatetime'].apply(lambda x: get_year(x))\n",
    "cat_df['month'] = cat_df['trandatetime'].apply(lambda x: get_month(x))\n",
    "cat_df['day'] = cat_df['trandatetime'].apply(lambda x: get_day(x))\n",
    "cat_df['hour'] = cat_df['trandatetime'].apply(lambda x: get_hour(x))\n",
    "cat_df['country'] = cat_df['location'].apply(lambda x: get_country(x))\n",
    "cat_df['city'] = cat_df['location'].apply(lambda x: get_city(x))\n",
    "cat_df['institution'] = cat_df['location'].apply(lambda x: get_inst(x))"
   ]
  },
  {
   "cell_type": "code",
   "execution_count": 362,
   "metadata": {},
   "outputs": [
    {
     "name": "stdout",
     "output_type": "stream",
     "text": [
      "3018\n"
     ]
    }
   ],
   "source": [
    "print(len(cat_df['city'].unique().tolist()))"
   ]
  },
  {
   "cell_type": "code",
   "execution_count": 381,
   "metadata": {},
   "outputs": [
    {
     "name": "stdout",
     "output_type": "stream",
     "text": [
      "['', '. UA', 'A UA', 'AD', 'ADAD', 'AE', 'AEAE', 'AG', 'AM', 'ARUS', 'AT', 'ATAT', 'AU', 'AUAU', 'AZ', 'AZUS', 'BB', 'BE', 'BEBE', 'BF', 'BG', 'BGBG', 'BR', 'BY', 'BYBY', 'CACA', 'CAUS', 'CH', 'CHCH', 'CN', 'CNCN', 'CR', 'CW', 'CY', 'CYCY', 'CZ', 'CZCZ', 'DCUS', 'DE', 'DEDE', 'DEUS', 'DK', 'DKDK', 'DO', 'DODO', 'EE', 'EG', 'EGEG', 'ES', 'ESES', 'FI', 'FLUS', 'FR', 'FRFR', 'GAUS', 'GB', 'GBGB', 'GE', 'GEGE', 'GH', 'GI', 'GIGI', 'GR', 'GRGR', 'HK', 'HKHK', 'HR', 'HRHR', 'HU', 'HUHU', 'IAUS', 'ID', 'IDUS', 'IE', 'IEIE', 'IL', 'ILIL', 'ILUS', 'IN', 'ININ', 'IT', 'ITIT', 'JO', 'JPJP', 'K UA', 'KN', 'KSUS', 'KW', 'KZ', 'KZKZ', 'LK', 'LT', 'LU', 'LULU', 'LV', 'LVLV', 'MC', 'MCMC', 'MD', 'MDMD', 'MDUS', 'ME', 'MEME', 'MGMG', 'MK', 'MKMK', 'ML', 'MNUS', 'MOUS', 'MT', 'MU', 'MUMU', 'MV', 'MY', 'MYMY', 'NCUS', 'NEUS', 'NJUS', 'NL', 'NLNL', 'NO', 'NONO', 'NVUS', 'NYUS', 'OHUS', 'ONCA', 'ORUS', 'PAUS', 'PEPE', 'PL', 'PLPL', 'PR', 'PT', 'PTPT', 'PYPY', 'RO', 'RORO', 'RS', 'RSRS', 'RU', 'RURU', 'SE', 'SESE', 'SG', 'SI', 'SISI', 'SK', 'SKSK', 'SKUA', 'SN', 'TG', 'TH', 'TJ', 'TNUS', 'TR', 'TRTR', 'TXUS', 'UA', 'UAUA', 'USUS', 'UTUS', 'VN', 'WAUS', 'WIUS', 'lHUHU', 'oCHCH', 'vHUHU', '™rCHCH']\n"
     ]
    }
   ],
   "source": [
    "full_country_list = sorted(cat_df['country'].unique().tolist())\n",
    "print(sorted(cat_df['country'].unique().tolist()))"
   ]
  },
  {
   "cell_type": "code",
   "execution_count": 365,
   "metadata": {},
   "outputs": [
    {
     "name": "stdout",
     "output_type": "stream",
     "text": [
      "168\n"
     ]
    }
   ],
   "source": [
    "print(len(sorted(cat_df['country'].unique().tolist())))"
   ]
  },
  {
   "cell_type": "code",
   "execution_count": 372,
   "metadata": {},
   "outputs": [],
   "source": [
    "UA_list = ['. UA', 'A UA', 'UA', 'UAUA', 'K UA']\n",
    "AD_list = ['AD', 'ADAD']\n",
    "AE_list = ['AE', 'AEAE']\n",
    "AT_list = ['AT', 'ATAT']\n",
    "AU_list = ['AU', 'AUAU']\n",
    "BE_list = ['BE', 'BEBE']\n",
    "BG_list = ['BG', 'BGBG']\n",
    "BY_list = ['BY', 'BYBY']\n",
    "US_list = ['USUS', 'UTUS', 'US', 'WAUS', 'WIUS', 'AZUS', 'DEUS', 'FLUS', 'GAUS']"
   ]
  },
  {
   "cell_type": "code",
   "execution_count": 374,
   "metadata": {},
   "outputs": [],
   "source": [
    "def get_US_list(country):\n",
    "    res = list()\n",
    "    for con in country:\n",
    "        if len(con) == 4:\n",
    "            if con.endswith('US'):\n",
    "                res.append(con)\n",
    "    return res"
   ]
  },
  {
   "cell_type": "code",
   "execution_count": 378,
   "metadata": {},
   "outputs": [],
   "source": [
    "def get_UA_list(country):\n",
    "    res = list()\n",
    "    for con in country:\n",
    "        if len(con) == 4:\n",
    "            if con.endswith('UA'):\n",
    "                res.append(con)\n",
    "    return res"
   ]
  },
  {
   "cell_type": "code",
   "execution_count": 379,
   "metadata": {},
   "outputs": [],
   "source": [
    "list_US = get_US_list(sorted(cat_df['country'].unique().tolist()))\n",
    "list_UA = get_UA_list(sorted(cat_df['country'].unique().tolist()))"
   ]
  },
  {
   "cell_type": "code",
   "execution_count": 380,
   "metadata": {},
   "outputs": [
    {
     "name": "stdout",
     "output_type": "stream",
     "text": [
      "28\n",
      "5\n"
     ]
    }
   ],
   "source": [
    "print(len(list_US))\n",
    "print(len(list_UA))"
   ]
  },
  {
   "cell_type": "code",
   "execution_count": 386,
   "metadata": {},
   "outputs": [],
   "source": [
    "temp_country_list = set(full_country_list) - set(list_US) - set(list_UA)"
   ]
  },
  {
   "cell_type": "code",
   "execution_count": 391,
   "metadata": {},
   "outputs": [],
   "source": [
    "def get_double(country_list):\n",
    "    res_dict = dict()\n",
    "    two_letters_list = list()\n",
    "    for country in country_list:\n",
    "        if len(country) == 2:\n",
    "            two_letters_list.append(country)\n",
    "    for two in two_letters_list:\n",
    "        for country in country_list:\n",
    "            if len(country) == 4:\n",
    "                if country.endswith(two):\n",
    "                    res_dict[two] = [two, country]\n",
    "    return res_dict"
   ]
  },
  {
   "cell_type": "code",
   "execution_count": 392,
   "metadata": {},
   "outputs": [],
   "source": [
    "doubles_dict = get_double(temp_country_list)"
   ]
  },
  {
   "cell_type": "code",
   "execution_count": 396,
   "metadata": {},
   "outputs": [],
   "source": [
    "doubles_dict['UA'] = list_UA\n",
    "doubles_dict['US'] = list_US"
   ]
  },
  {
   "cell_type": "code",
   "execution_count": 399,
   "metadata": {},
   "outputs": [
    {
     "name": "stdout",
     "output_type": "stream",
     "text": [
      "129\n"
     ]
    }
   ],
   "source": [
    "num = 0\n",
    "for val in doubles_dict.values():\n",
    "    num += len(val)\n",
    "print(num)"
   ]
  },
  {
   "cell_type": "code",
   "execution_count": 405,
   "metadata": {},
   "outputs": [
    {
     "name": "stdout",
     "output_type": "stream",
     "text": [
      "['', 'MV', '™rCHCH', 'PEPE', 'MGMG', 'KW', 'JO', 'VN', 'LK', 'SG', 'CR', 'oCHCH', 'UA', 'ML', 'EE', 'BR', 'JPJP', 'TH', 'KN', 'CW', 'vHUHU', 'BF', 'MT', 'TG', 'FI', 'ONCA', 'GH', 'SN', 'BB', 'AZ', 'PR', 'LT', 'AG', 'PYPY', 'TJ', 'CACA', 'AM', 'ID', 'lHUHU']\n"
     ]
    }
   ],
   "source": [
    "temp = list()\n",
    "for val in doubles_dict.values():\n",
    "    temp = temp + val\n",
    "\n",
    "temp_country = list(set(full_country_list) - set(temp))\n",
    "print(temp_country)"
   ]
  },
  {
   "cell_type": "code",
   "execution_count": 364,
   "metadata": {},
   "outputs": [
    {
     "name": "stdout",
     "output_type": "stream",
     "text": [
      "['+17029399819', '+34976362127', '+357-22514442', '+441273852359', '+442070237556', '+74956680633', '+74957270606', '-', '-GRANDATE', '-PIAVE', '-S.GIOVANNI', '.DONA DI PIAV', '.MILANO EST', '000000060001/', '000000750801/', '000000750806/', '000000750807/', '00VISA DIRECT', '01865 616000', '019281199', '0207 6797742', '02072339533', '02077561000', '03336661000', '06200', '06211', '06300', '06ANTIBES', '06ANTIBES  VP', '06CANNES', '06CANNES(((30', '06CANNES(((37', '06GRASSE', '06MENTON', '06NICE', '06ROQUEBRUNE', '06SNG1 CB', '06SNI1 CB', '06SNI5 CB', '06ST JEAN CAP', '06ST LAURENT', '06ST PAUL', '06ST PAUL VEN', '06VILLEFRANCH', '08000304238', '08002889949', '08003685302', '08005434835', '08009666546', '0845 900 1234', '08456025612', '08669642867', '0870 8387294', '0870070191', '0CHINA0000000', '1', '1-888-3009348', '11 XLM EO', '12 ATLANTIC B', '14DEAUVILLE', '14HONFLEUR', '2015582683', '2022764906', '2024996427', '20260 KORCULA', '206-632-2421', '208-472-9400', '212-9202020', '2123992323', '2127777001', '2137472121', '2623', '26567436', '26VISA DIRECT', '281-973-2500', '2DUBLIN', '305-3548306', '3054167445', '3055382273', '3055384757', '310-8294343', '3104407300', '3106016899', '3122815333', '323-9899917', '3233752822', '3238767060', '35314369001', '35725262655', '35725349930', '35PLEURTUIT', '380443791879', '380444286128', '380445857777', '38GRENOBLE', '4029357733', '403-451-8020', '4034518020', '415-707-9920', '415-800-5959', '4154486673', '4156386128', '417-6253042', '4192787172', '420220111816', '425-8899642', '425-9522985', '4255511500', '442030510330', '44870835190', '44871566003', '480-505-8855', '480-5058855', '496196669054', '4989244473500', '5-5A ST STEPH', '516-605-1880', '556 OXFORD ST', '603 26149099', '609-771-7100', '6463978051', '6465788480', '65 NOTTING HI', '650-543-7818', '6516336445', '6825031435', '69929116LYON', '69929120LYON', '69BRON CEDEX', '69SP3C CB', '6TH O', '702-4057223', '702-770-2270', '702-770-2540', '73ST BON TARE', '75011 PARIS', '75025PARIS 8', '754249569PARI', '75HAUSSMANN', '75PARIS', '75PARIS  01', '75PARIS  08', '75PARIS 01', '75PARIS 02', '75PARIS 04', '75PARIS 06', '75PARIS 08', '75PARIS 09', '75PARIS 1', '75PARIS 15', '75PARIS 18', '75PARIS 4', '75PARIS 6', '75PARIS 7', '75PARIS 8', '75PARIS 8  00', '75PARIS 8 077', '76530 GRAND C', '77CHESSY', '77FONTAINEBLE', '77SERRIS', '786-4995449', '78VERSAILLES', '79NIORT', '800-279-6620', '800-358-1218', '800-367-3476', '800-375-5283', '800-4277895', '800-450-1480', '800-511-3478', '800-6000949', '800-832-0594', '800-843-2665', '800-932-2732', '800-966-6546', '800-OLDNAVY', '800-TOYSRUS', '8002889949', '80072789106', '8008881500', '8009666546', '80VISA DIRECT', '818-7691151', '8358521035', '85662 Feldkir', '866-216-1072', '866-236-8417', '866-321-8851', '866-450-4000', '866-576-1039', '866-5761039', '866-611-2623', '866-6112623', '866-663-3954', '866-860-8907', '8665761039', '877-214-4288', '877-270-4536', '877-327-8914', '877-3278914', '877-4612631', '877-746-7267', '877-779-5615', '877.270.4536', '8772940273', '8778569598', '888-282-6060', '888-4014678', '888-475-7674', '888-676-2660', '888-721-4451', '888-888-8888', '913-402-6800', '913-535-6937', '92PUTEAUX((18', '93600 Kuusamo', '9516163600', '95352567RELAY', '95709118 ROIS', '95LACM CB', '95LDM2 CB', '95LSA6 CB', '95LSG2 CB', '95LST2 CB', '95S302 CB', '9739283404', '9998 PHUKET', ': F29823797', 'A DI PIAVE', 'A VISA DIRECT', 'A-ROV.N.', 'A/D KYIV-VYSH', 'A998 MONACO', 'A9MONACO', 'ABAMA', 'ABANO TERME', 'ABANO TERME B', 'ABU DHABI', 'ACCRA', 'ACHADA DA MAD', 'ACS', 'ADEJE', 'ADEJE CASCO', 'ADJUD', 'ADOVA OVEST', 'ADRIA', 'ADWORDS', 'AEROPORT BORY', 'AEROPORT DOMO', 'AFFI', 'AFUMATI', 'AFYTOS', 'AGIA PARASKEV', 'AGION OROS', 'AHTYRKA', 'AIRBNB.COM', 'AIRPORT 2050', 'AKHTYRKA', 'ALAJUELA', 'ALAMTY', 'ALASSIO', 'ALCHEVSK', 'ALEXANDRIA', 'ALEXANDROVKA', 'ALGHERO', 'ALICANTE', 'ALMANCIL', 'ALMATY', 'ALUSHTA', 'ALUTHGAMA', 'AMALFI', 'AMMAN', 'AMSTELVEEN', 'AMSTERDAM', 'AMZN.COM/BILL', 'ANAGNI', 'ANANIEV', 'ANCONA', 'ANDORRA', 'ANDORRA LA VE', 'ANDRUSHEVKA', 'ANKARA', 'ANTALYA', 'ANTIBES', 'ANTRACIT', 'APARTAMENTOS', 'ARCO', \"ARENYS D'EMPO\", 'ARLINGTON', 'ARONA', 'ARTEMIVSK', 'ARTEMOVSK', 'ARZACHENA', 'AS', 'ASHDOD', 'ASHKELON', 'ASSAGO', 'ASTANA', 'ASTEY', 'ASUNCION', 'ATHENS', 'ATHINA', 'ATLANTA, GEOR', 'ATM', 'AU', 'AUBERVILLIERS', 'AURACH', 'AUSTRIA', 'AVANGARD', 'AVANGARD SMT', 'AVANGARDIVSKA', 'AVENTURA', 'AVG', 'AVTODOROGA', 'AZZANO BARR', 'Accra', 'Agios Athanas', 'Aleksandrowic', 'Alland', 'Amazon.com', 'Amsterdam', 'Antananarivo', 'Antosovice', 'Arosa', 'Athens', 'Avangard', 'B TSERKOV', 'B.TSERKVA', 'BABURKA', 'BABYNINO', 'BACKI PETROVA', 'BAD HOFGASTEI', 'BAD-HOFGASTEI', 'BADALONA', 'BADUNG', 'BAIKIVTSI', 'BAKER', 'BAKER STREET', 'BAKHMACH', 'BAKI CITY', 'BAL HARBOUR', 'BALAKLEYA', 'BALATONKERESZ', 'BALATONLELLE', 'BALERNA', 'BALI', 'BALI DENPASAR', 'BALI KUTA', 'BALICE', 'BALICHI', 'BALTA', 'BALYCHI', 'BAMAKO', 'BANGKOK', 'BANIOCHA', 'BAR', 'BARAKALDO', 'BARANINTSY', 'BARANOVICHI', 'BARANYNSI', 'BARANYNTSI', 'BARCELLONA', 'BARCELONA', 'BARSTOW', 'BARVINOK', 'BARYSHEVKA', 'BASSANO DEL G', 'BAT YAM', 'BATUMI', 'BAVARO', 'BAYAHIBE', 'BEAUVAIS', 'BEGUR', 'BEIJING', 'BELAYA TSERKO', 'BELG.-DNESTR.', 'BELGOROD', 'BELGORODSKY R', 'BELKI', 'BELLAGIO', 'BELLEVUE', 'BELYAYEVKA', 'BENE BRAK', 'BENICASIM', 'BENICASSIM', 'BENTONVILLE', 'BENTOTA', 'BENY BRAK', 'BEOGRAD', 'BEOGRAD 59', 'BERDIANSK', 'BERDICHEV', 'BERDYANSK', 'BERDYCHIV', 'BEREGOVO', 'BEREHOVO', 'BEREZAN', 'BEREZHANY', 'BEREZNIY', 'BERGAMO', 'BERISLAV', 'BERKSHIRE', 'BERLIN', 'BESKO', 'BEVERLY HILLS', 'BEZLUDIVKA', 'BIBBIENA', 'BIBRKA', 'BILA CERKVA', 'BILA KRYNYTSY', 'BILA TSERKVA', 'BILAIVKA', 'BILBAO', 'BILIAYIVKA', 'BILL.MS.NET', 'BILOKRITSKIY', 'BILOKRYNYTSYA', 'BISHOPSGATE', 'BLACK CANYON', 'BLAGOEVGRA', 'BLAGOEVGRAD', 'BLANES', 'BLED', 'BOA VISTA', 'BOBRUISK.R-N', 'BOGDANCI', 'BOGODUHOV', 'BOGORODCHANI', 'BOGORODCHANY', 'BOGUSLAV', 'BOLEHOV', 'BOLEKHIV', 'BOLGRAD', 'BOLOGNA', 'BOLSHIE LAZY', 'BOND ST STN', 'BONITA SPGS', 'BONN', 'BONN    00', 'BORCHAGOVKA', 'BORDEAUX', 'BORDEAUX CEDE', 'BORG ELARB AL', 'BORISPIL', 'BORISPOL', 'BORODYANKA', 'BORS', 'BORSO DEL GRA', 'BORYSPIL', \"BORYSPIL'\", 'BORYSPIL-7', 'BORYSPOL', 'BOULIAC', 'BOULOGNE BILL', 'BOYANY', 'BOYARKA', 'BRAGA', 'BRAINTREE', 'BRAN', 'BRANIV', 'BRASOV', 'BRATISLAVA', 'BREENDONK', 'BRESCIA', 'BREST', 'BREST 16', 'BRESTSKIY R-N', 'BRISTOL', 'BRNO', 'BRODETCKA', 'BRODY', 'BRONYKY', 'BROOKLYN', 'BROVARI', 'BROVARY', 'BRUGGE', 'BRUSILOV', 'BRUSSEL', 'BRUSSELS', 'BRUXELLES', 'BRZESKO', 'BUCHA', 'BUCURESTI', 'BUDAORS', 'BUDAPEST', 'BUDAPEST/1061', 'BUDVA', 'BUENA PARK', 'BUGAYIVKA', 'BURGAS', 'BURGOS', 'BURSA', 'BURSHTYN', 'BUSK', 'BUZOVA', 'BZIV', 'Babolna', 'Backa Topola', 'Backov', 'Bad  Hofgaste', 'Bad Hofgastei', 'Badung (Kab)', 'Balakliya', 'Balice', 'Bangkok', 'Bar', 'Barcelona', 'Barnislaw', 'Baryshevka', 'Bascharage', 'Beregovo', 'Berezan', 'Berlin', 'Bila Tserkva', 'Blejoi', 'Bogorodchany', 'Borislav', 'Bors', 'Bratislava', 'BravoFly com', 'BravoFly de K', 'Bravoavia ua', 'Bravofly Rumb', 'Brno Slatina', 'Broc', 'Brooklyn', 'Brovari', 'Brudzowice', 'Brugge', 'Brunn am Gebi', 'Brzesc Kujaws', 'Bucha', 'Budapest', 'Budva', 'Burgas', 'Buzau', 'C.HIGHLANDS', 'CADAQUES', 'CADORAGO', 'CAGNES SUR ME', 'CAHUL', 'CAIRO', 'CAIRO AIRPORT', 'CAIRO E. -07C', 'CAIRO E. -07E', 'CAIRO N. -07C', 'CALDAS DA RAI', 'CALEDONIAN RO', 'CALELLA', 'CALHETA', 'CALLAO', 'CALUGARENI', 'CAMBRIDGE', 'CAMERON', 'CAMERON HLAND', 'CAMPANARIO', 'CAN SERRA I P', 'CANACONA', 'CANCALE', 'CANNE0000868/', 'CANNES', 'CANOGA PARK', 'CAORLE', 'CAPABILITY GR', 'CAPONAGO', 'CAPRI', 'CARD TOP-UP', 'CARDANO AL CA', 'CARDEDEU', 'CARMEL BY THE', 'CASTEL GUELFO', 'CASTEL SAN PI', 'CASTELFIORENT', 'CASTIGLIONE D', 'CAUSANI', 'CAUSENI', 'CAUSEWAY BAY', 'CAVTAT', 'CC@GOOGLE.COM', 'CELJE', 'CENTRAL', 'CERDANYOLA DE', 'CERGY', 'CERIALE', 'CERVIA', 'CERVIA MILANO', 'CESSALTO', 'CHABANY', 'CHALKIDIKI', 'CHAMONIX MONT', 'CHAMPAGNY EN', 'CHANTILLY', 'CHAYKI', 'CHEAPOAIR.COM', 'CHELM', 'CHERKAS', 'CHERKASKA LOZ', 'CHERKASSKOE', 'CHERKASSY', 'CHERKASY', 'CHERNIGIV', 'CHERNIGOV', 'CHERNIVCI', 'CHERNIVTCY', 'CHERNIVTSI', 'CHERNIVTSI, N', 'CHERNIVTSY', 'CHERNIYIV', 'CHERNOMORSKOE', 'CHERNOVCY', 'CHERNOVTCY', 'CHERNOVTSY', 'CHERNOVTSYI', 'CHERVONA SLOB', 'CHICAGO', 'CHIGIRIN', 'CHIOGGIA', 'CHISINAU', 'CHONBURI', 'CHOP', 'CHORNOMORSKE', 'CHORTKIV', 'CHORZOW', 'CHRIST CHURCH', 'CHUBYNSKE', 'CHUGUYIV', 'CHUHUIV', 'CHUR', 'CHUTOVO', 'CHYGYRYN', 'CHYNADIEVO', 'CISON DI VALM', 'CITTADELLA', 'CITY CENTRE P', 'CITY INDUSTRY', 'CIUDAD REAL', 'CIVITAVECCHIA', 'CLAIRA', 'CLEVERBRIDGE', 'CLICHY', 'CO GALWAY', 'COCONUT CREEK', 'CODOGNE', 'COLCHESTER', 'COM. CRAINIMA', 'COMILLAS', 'COMO', 'CONDUIT ST LO', 'CONEGLIANO', 'CORDES JUNCTI', \"CORIGLIANO D'\", 'CORONADO', 'CORTELLAZZO', \"CORTINA D'AMP\", 'CORVALLIS', 'COSTA ADEJE', 'COTOS DE MONT', 'COVENTRY', 'CUTROFIANO', 'CYPRUS', 'CZESTOCHOWA', 'Cannes-France', 'Causeni (or.)', 'Celje', 'Central', 'Chelm', 'Cherkasskoe', 'Cherkasy', 'Chinadievo', 'Chisinau', 'Chisinau (mun', 'Chur', 'Clarem', 'Cointrin', 'Conthey', 'Cottbus', 'D-BREHMPLA  >', 'D-KOENI 41', 'D-OBERKASS  >', 'D-ZOO 6 49', 'DAKAR', 'DALNYK', 'DANILOVGRAD', 'DDFNORD 47', 'DEBICA', 'DEBRECEN', 'DEFAULT REGIO', 'DELHI', 'DELYATYN', 'DEMANOVSKA DO', 'DEMIDIVKA', 'DEMIDOVKA', 'DEMYDIVKA', 'DENIA', 'DENPASAR', 'DENYKHIVKA', 'DERGACHI', 'DESENZANO DEL', 'DIMITROV', 'DMYTRUSHKY', 'DN-SK', 'DNDZERZHYNSK', 'DNEPR', 'DNEPRODZER-SK', 'DNEPRODZERJIN', 'DNEPROPENROVS', 'DNEPROPETR-SK', 'DNEPROPETROV', 'DNEPROPETROVS', 'DNEPROPTROVSK', 'DNEPRORUDNOE', 'DNIEPROPETROV', 'DNIP-SK', 'DNIPRODZERJIN', 'DNIPRODZERZHY', 'DNIPROPETRIVS', 'DNIPROPETROV', 'DNIPROPETROVK', 'DNIPROPETROVS', 'DNIPROPRTROV', 'DNIPRORUDNYI', 'DOKUCHAEVSK', 'DOLNA STREDA', 'DOLO', 'DOMODEDOVO', 'DONETSK', 'DOPIEWO', 'DOROGE', 'DOSLIDNE', 'DOSLIDNYTSKE', 'DOUGLAS', 'DOUGLAS IOM', 'DRAGUSENI', 'DRAHELCICE', 'DRESDEN', 'DROGOBICH', 'DRUZHBA', 'DUBAI', 'DUBLIN', 'DUBLIN 4', 'DUBNO', 'DUBOVOE', 'DUBROVKA', 'DUBROVNIK', 'DUBYNA', 'DUE-KOE 41', 'DUESSEL 47', 'DUESSEL 49', 'DUESSELDORF', 'DULIBI', 'DULIBY', 'DUNAEVTSY', 'DUNAYIVTCI', 'DUSHANBE', 'DZERZHINSK.R-', 'Demanovska Do', 'Dokuchaevsk', 'Domodedovo', 'Dovge', 'Dresden', 'Dubai', 'Dublyany', 'Duesseldorf', 'Duesseldorf-M', 'Dusseldorf', 'E', 'E178041861', 'E179839262', 'E399226881', 'E446666555', 'E542342356', 'E835981333', 'E836064681', 'EASYJET.COM', 'EBENE', 'EBOOKERS.COM', 'EDE', 'EDINBURGH', 'EDINBURGH AIR', 'EGER', 'EGERSZALOK', 'EILAT', 'EKATERINBURG', 'EL PRAT DE LL', 'ELIZABETH', 'ENCAMP', 'ENCS', 'ENEZIA EST', 'ENEZIA MESTRE', 'EPERNAY', 'ERBUSCO', 'ERICAWEINER.C', 'ESCALDES-ENGO', 'ESSALTO', 'ESSEN', 'ESSEX', 'EST', 'EXEDOROU', 'EXPEDIA CO UK', 'EXPEDIA MY', 'EXPEDIA.COM', 'EZE', 'EZE VILLAGE', 'Edinburgh', 'Eger', 'Elizavetivka', 'Elyzavetivka', 'FABRO', 'FALCONARA MAR', 'FAMAGUSTA', 'FANABE', 'FASTOV', 'FECAMP', 'FEKETIC', 'FERNO', 'FERREL', 'FERRY & TRAVE', 'FIGUERES', 'FIRENZE', 'FIUME VENETO', 'FIUMICELLO', 'FIUMICINO', 'FLORENCE', 'FLUSHING', 'FONFANSKAYA', 'FONTAN', 'FONTANKA', 'FONTANSKA', 'FONTANSKA S-R', 'FOOTSCRAY', 'FORIO', 'FORSTERN', 'FORT LAUDERDA', 'FORTE DEI MAR', 'FP8383VANDIS/', 'FR. LAZNE', 'FRANCE', 'FRANKF7452567', 'FRANKF7527499', 'FRANKFURT', 'FRANKFURT AM', 'FRANTISKOVY L', 'FRUNZEVKA', 'FRUNZIVKA', 'FRUNZOVKA', 'FUENGIROLA', 'FULE', 'FUNCHAL', 'FURMANKA', 'Flowers from', 'Flughafen Wie', 'Fontanka', 'Fort Lauderda', 'Frankfurt am', 'Freiburg', 'Funchal - MAD', 'G DOMODEDOVO', 'G KHIMKI', 'G MOSKVA', 'G SOCHI', 'G.B.CERKOV', 'G.DUBNIK', 'G.MILANO EST', 'GA', 'GABICCE MARE', 'GALLICANO NEL', 'GALWAY', 'GAMALIIVKA BA', 'GAMALIYIVKA', 'GARDEN CITY', 'GARNYSHEVKA', 'GAT', 'GATNE', 'GATNENSKA SR', 'GATTEO', 'GATWICK', 'GATWICK 1869', 'GATWICK AIRPO', 'GATWICK SOUTH', 'GAVA', 'GAVRONSCHSHYN', 'GAYSHYN', 'GAYSYN', 'GDANSK', 'GELEJ', 'GENEVE', 'GENICHESK', 'GENOA', 'GENOVA', 'GERONA', 'GETSOVO', 'GEVGELIJA', 'GIBRALTAR', 'GIFTSFLOWERS.', 'GIRONA', 'GIRSKE', 'GLEVAHA', 'GLEVAKHA', 'GLEVAKHA SMT', 'GLINOJECK', 'GLYBOCHYTSKA', 'GLYBOKA', 'GLYBOKA DOLYN', 'GLYNYTSI', 'GMUND', 'GNEDIN', 'GNIVAN', 'GOLAYA PRISTA', 'GOLOSKIV', 'GOOGLE.COM/CH', 'GORA', 'GORBAKIV', 'GORBEHAZA', 'GORENICHI', 'GORGO AL MONT', 'GORKIY 2', 'GORNOSTAEVKA', 'GORODOK', 'GOSHEV', 'GOSTOMEL', 'GOTEBORG', 'GOUVIEUX', 'GOVEDJARI', 'GRAJEWO', 'GRANADILLA DE', 'GRAND CANYON', 'GRANDATE', 'GRASSE', 'GRAU ROIG', 'GRAYS INN ROA', 'GREBENON', 'GREBINKY', 'GRENOBLE', \"GRETS'KA, 14\", 'GRISHKOVTSY', 'GRODNO', 'GRUSHVYTSIA P', 'GS 017', 'GS 131', 'GS 132', 'GSTAAD', 'GUANGZHOU', 'GUDJA', 'GUELPH', 'GUINCHO', 'GUNZENHAUSEN', 'GVARDEYSKOE', 'GYOR', 'Gadyach', 'Garwolin', 'Gatwick Airpo', 'Gdansk', 'Gen ve', 'Geneva', 'Geneve', 'Geneve 15 Aer', 'Geneve-AС™rop', 'GenСњve', 'GenСњve 1', 'GenСњve 15 AС', 'Germany', 'Germasogeia', 'Gibraltar', 'Giurgiulesti', 'Glyboka', 'Grand-Lancy', 'Gromadka', 'H.UZHHOROD', 'HAAG', 'HADERA', 'HAIFA', 'HAJDUSZOBOSZL', 'HALLANDALE BE', 'HALSTEAD', 'HAMBURG', 'HAMM', 'HANGZHOU', 'HANNOVER', 'HARK.OBL. C.', 'HARKIV', 'HARKOV', 'HATVAN', 'HAYSHIN', 'HEATHROW', 'HEDERA', 'HEGYESHALOM', 'HEIFA', 'HELENAVEEN', 'HELLMONSOEDT', 'HERCEG NOVI', 'HEREDIA', 'HERSON', 'HERTZLIYA', 'HERZELIYA', 'HERZELYA', 'HGOROD', 'HIGH HOLBORN', 'HIGUEY', 'HIMKI', 'HK', 'HLEBODARSKOE', 'HMELNTCKIJ', 'HMELNYTSKYY', 'HODOSEEVKA', 'HODOSIEVKA', 'HODOSIVKA', 'HODOSIYIVKA', 'HODOSOVKA', 'HOERSCHING', 'HOLBORN', 'HOLLYWOOD', 'HOLMOK', 'HOLODNOBALKOV', 'HONFLEUR', 'HONG KONG', 'HORGOS', 'HORNI BECVA', 'HORSEHEADS', 'HOTIN', 'HOUNSLOW', 'HRADCOVICE', 'HRUBIESZOW', 'HTTP://WWW.BO', 'HTTP://WWW.MA', 'HTTP://WWW.MO', 'HUMPOLEC', 'HURGHADA -25A', 'HURGHADA -25B', 'HUST', 'HUSTOPECE NAD', 'HVAR', 'HYDE PARK COR', 'HajdРќszobosz', 'Hannover', 'Himki', 'Hoersching', 'Hrubieszow', 'Hust', 'I-FRANKOVSK', 'IASI', 'IERISSOS', 'IESOLO', 'IFANO-FRANKIV', 'IGOUMENITS', 'IGOUMENITSA', 'IILICHEVSK', 'ILICHEVSK', 'ILICHIVSK', 'ILLICHEVSK', \"ILLICHIVS'K\", 'ILLICHIVSK', 'ILLYCHEVSK', 'ILNITSA', 'ILNITSYA', 'ILYCHEVSK', 'ILYICHEVSK', 'INNOVA-INVEST', 'INTERNET', 'IRAKLIO', 'IRPEN', 'IRPIN', \"IRPIN'\", 'IRSHAVA', 'IRSHEVA', 'ISCHGL', 'ISCHIA PORTO', 'ISLINGTON 031', 'ISTANBUL', 'ITALY', 'ITUNES.COM', 'IV-FRANKIVSK', 'IV.FRANKOVSK', 'IVACHNOVA', 'IVAN-FRANKIVS', 'IVAN-FRANKOVS', 'IVANKIV', 'IVANO FRANKIV', 'IVANO FRANKOV', 'IVANO- FRANKI', 'IVANO-FR-VSK', 'IVANO-FRANK-K', 'IVANO-FRANK-S', 'IVANO-FRANK.', 'IVANO-FRANKIV', 'IVANO-FRANKOV', 'IVANO_FRANKOV', 'IVATSEV.R-N', 'IVATSEVICH.R-', 'IVATSEVICHI', 'IYEV', 'IZMAIL', 'IZMAYIL', 'IZMIR', 'Inarcs', 'Iojib', 'Irshava', 'Ischgl', 'Istanbul', 'Ivano- Franki', 'Ivano-Frankiv', 'JAKARTA', 'JAMAICA', 'JAROSLAW', 'JEAN', 'JERUSALEM', 'JESOLO', 'JEVICKO', 'JOSIPDOL', 'JUAN LES PINS', 'JUZHNIY', 'Jablonov nad', 'Jarovce', 'Jaworzno', 'Jersey', 'Jesolo', 'Jochberg/Kitz', 'KAGARLYK', 'KAHRKOV', 'KAL', 'KALAMPAKA', 'KALAMPAKAS', 'KALINKOV.R-N', 'KALINOVKA', 'KALMANHAZA', 'KALUSH', 'KALWARIA PACL', 'KALYNIVKA', 'KALYTYANSKE', 'KAM-PODOLSKY', 'KAM.-PODOLSK.', 'KAM.PODILSKYY', 'KAMEN PODILS', 'KAMENNOPOL', 'KAMIANETS-POD', 'KAMPODILSKIY', 'KAMYANEC PODI', 'KAMYANETS-POD', 'KAMYANETSK-PO', 'KAMYANKA', 'KAMYSHEVAKHA', 'KANEV', 'KAPITANIVKA', 'KARGAL LAS', 'KARLIVKA', 'KARLOVKA', 'KARLOVY VARY', 'KARLSRUHE', 'KASTEL GOMIL', 'KASTEL GOMILI', 'KATOWICE', 'KATUNAYAKE', 'KAVKAZ', 'KERCH', 'KFAR SABA', 'KHARK V', 'KHARKIV', 'KHARKOV', 'KHAR`KOV', 'KHERSON', 'KHIMKI', 'KHIMKI-141400', 'KHLIBODARSKE', 'KHLIBYCHYN', \"KHMEL'NYTSKYY\", 'KHMELNIK', 'KHMELNITSKII', 'KHMELNITSKIY', 'KHMELNITSKY', 'KHMELNITSKYI', 'KHMELNITSKYY', 'KHMELNYCKIY', 'KHMELNYTSK', 'KHMELNYTSKII', 'KHMELNYTSKIY', 'KHMELNYTSKY', 'KHMELNYTSKYI', 'KHMELNYTSKYJ', 'KHMELNYTSKYY', 'KHODOSIVKA', 'KHODOSOVKA', 'KHOLMOK', 'KHOLODNOBALKI', 'KHOROL', 'KHOTOMLYA', 'KHOTSKY', 'KHOTYN', 'KHUST', 'KIEV', 'KIEV OBL', 'KIIV', 'KILIIA', 'KILIYA', 'KINCHESH', 'KINGS CROSS', 'KIPTI', 'KIRCHHEIM', 'KIRILOVKA', 'KIRISHI', 'KIRIVOGRAD', 'KIROVOGRAD', 'KIROVSK', 'KIROVSKE', 'KIRYAT GAT', 'KISVARDA', 'KIVERCY', 'KIVERTSY', 'KIYEV', 'KIYV', 'KL', 'KLAJ', 'KLEINLANGHEIM', 'KLEVAN', 'KLOCHEVE', 'KLYACHANOVO', 'KMYTIV', 'KNIGHTSBRIDG', 'KNYAZHELUKA', 'KOBELYAKI', 'KOBELYAKY', 'KOBLEVO', 'KOCHEROV', 'KOEBENHAVN K', 'KOELN', 'KOLARIVKA', 'KOLAROVKA', 'KOLCHINO', 'KOLN DEUTZ', 'KOLN IN GS', 'KOLODENKA', 'KOLODYAZHNE', 'KOLOMIYA', 'KOLOMYYA', 'KOMINTER.R-N', 'KOMINTERNIVSK', 'KOMINTERNOVO', 'KOMINTERNOVSK', 'KOMMUNAR', 'KOMSOMOLSKE', 'KOMSOMOLSKOE', 'KONIN', 'KONONIVKA', 'KONOPLYANKA', 'KONOTOP', 'KONSTANTIN-KA', 'KONSTANTINOVK', 'KOPACHOVKA', 'KORCULA', 'KOROSTEN', \"KOROSTEN'\", 'KOROSTISHEV', 'KOROSTIV', 'KOROSTYSHEV', 'KOROSTYSHIV', 'KOROTYCHANSKA', 'KOROVIYA', 'KORSUNCI', 'KORSUNOVKA', 'KORSUNTSI', 'KORYSTYSHIV', 'KORYTYSCHE', 'KORYTYSHCHE S', 'KOSCIELISKO', 'KOSCIERZYNA', 'KOSICE', 'KOSICE SK', 'KOSON', 'KOSOV', 'KOSTOPIL', 'KOTELNITSA', 'KOTOR', 'KOTOVKA', 'KOTOVKA VILL.', 'KOTOVSK', 'KOTOVSKE', 'KOTSYUBINSKOY', 'KOVALENKY', 'KOVEL', 'KOZAROVYCHI', 'KOZELETS', 'KOZHICHI', 'KOZIN', 'KOZOVA', 'KOZYN', 'KRABI', 'KRAKOVETC', 'KRAKOVETS', 'KRAKOW', 'KRAL.CHLMEC', 'KRAMATORSK', 'KRASNAYA POLY', 'KRASNE', 'KRASNOARMEISK', 'KRASNOARMEYSK', 'KRASNODAR', 'KRASNOGRAD', 'KRASNOKUTSK', 'KRASNOPOLKA', 'KRASNOSEL.SOV', 'KRASNOSELKA', 'KRASNOSELSK', 'KRASNOSELSKIY', 'KRASNOSILSKA', 'KRASNOZNAMENK', 'KRASNYSTAW', 'KRASNYY KOLOD', 'KRAUTHEIM', 'KREFELD', 'KREMENCHUG', 'KREMENCHUH', 'KREMENCHUK', 'KREMENETS', 'KREROWO', 'KRIVOY ROG', 'KRIVYIH RIG', 'KRIZHANIVKA', 'KROLEVETS', 'KRYVE OZERO', 'KRYVYI RIG', 'KRYVYY RIG', 'KTIV', 'KUALA LUMPUR', 'KUIV', 'KULYNYCHI', 'KUMANOVO', 'KURAKHOVE', 'KUSHNITSA', 'KUTA-BALI', 'KUUSAMO', 'KUWAIT', 'KYEV', 'KYIIV', 'KYIV', 'KYIV UA', 'KYIVSKA OBL', 'KYRYLIVKA', 'KYYEVO-SVYATO', 'KYYIV', 'Kaerntnerstr.', 'Kajaani', 'Kaprun', 'Karacsond', 'Kastrup', 'Katowice', 'Kharkiv', 'Kiev', 'Kiiev', 'Kirovskiy', 'Kisv rda', 'Kivercy', 'Kiyv', 'Kopenhamn', 'Koscielec', 'Koscierzyna', 'Kosice', 'Kostomloty', 'Kozieglowy', 'Krakow', 'KrakР›w', 'Krasne', 'Krefeld', 'Kremenchuk', 'Krzemienica', 'Kuusamo', 'Kyiv', 'Kyrylivka', 'KР™ln', 'L AQUILA', \"L'HOSPITALET\", \"L'VIV\", \"LA BISBAL D'E\", 'LA DIJU R.', 'LA PINEDA. SA', 'LA ROCA DEL V', 'LA ROMANA', 'LA SPEZIA', 'LADEK', 'LADYJIN', 'LADYZHIN', 'LADYZHYNKA', 'LAINATE', 'LANGENPREISIN', 'LARNACA', 'LAS CHAFIRAS', 'LAS ROZAS DE', 'LAS ROZAS MAD', 'LAS VEGAS', 'LASTOVO', 'LAUSANNE', 'LAZISE', 'LAZURNOYE', 'LE MONT ST MI', 'LE VIEIL EVRE', 'LEASEWEB.NL', 'LEDRO', 'LEEDS', 'LEFKADA', 'LEFKOSE', 'LEICESTER', 'LEIPZIG', 'LEIRIA', 'LEKA', 'LENDAVA', 'LENDAVA/LENDV', 'LEONIVKA', 'LEONOVKA', 'LESINKI', 'LESKOVAC', 'LETYCHIV', 'LEVKIV', 'LEVKIVSKA S R', 'LEVKIVSKA SR', 'LEZIGNAN CORB', 'LIA', 'LICHTENBRG', 'LIDO DI JESOL', 'LIDSKIY R-N', 'LIENZ', 'LIMASSOL', 'LINKEDIN.COM', 'LIPTOVSKY MIK', 'LISBOA', 'LISICHANSK', 'LITIN', 'LITTLEROCK', 'LITYN', 'LIVERPOOL STR', 'LJUBLJANA', 'LLORET DE MAR', 'LOBKOVAYA BAL', 'LOD', 'LOD AIRPORT', 'LOD NAMAL TE', 'LODEYNOE POLE', 'LODZ', 'LOGATEC', 'LOGRONO', 'LOHVITSA', 'LOKHVYTSYA', 'LOKITKA', 'LOME', 'LONDON', 'LONDON  EC3N', 'LONDON  N11', 'LONDON  NW1', 'LONDON  SW1P', 'LONDON  SW1Y', 'LONDON  W11', 'LONDON  W1B', 'LONDON  W1C', 'LONDON  W1H', 'LONDON  W1K', 'LONDON  W1N', 'LONDON  W1U', 'LONDON  W2', 'LONDON  WC1V', 'LONDON 21', 'LONDON E2', 'LONDON EC4M', 'LONDON SE1', 'LONDON SW 105', 'LONDON SW1', 'LONDON SW19 2', 'LONDON W1C', 'LONDON W1S', 'LONDON W1U', 'LONDON WC1B', 'LONG IS CITY', 'LOOD', 'LOS ANGELES', 'LOUNGEKEY.COM', 'LOUVIERS', 'LOZOVAYA', 'LPGENERATOR.R', 'LUBACZOW', 'LUBASHOVKA', 'LUBERTCY', 'LUBLIN', 'LUBNY', \"LUC'K\", 'LUCHK', 'LUCK', 'LUDGATE HILL', 'LUGANSK', 'LUKOV', 'LUKOVICA', 'LUKOVIT', 'LUKOVTSY', 'LUNACHARSKOE', 'LUNINETSKIY R', 'LUTON', 'LUTON AIRPORT', 'LUTON, BEDS', \"LUTS'K\", 'LUTSK', 'LUTZK', 'LUXEMBOURG', 'LVIV', 'LVIV-BRUHOVYC', 'LVIV-VYNNYKY', 'LVOV', 'LWOWEK SLASKI', 'LYNDHURST', 'LYNNWOOD', 'LYPOVETS', 'LYPYNY', 'LYSAKER', 'LYUBASHOVKA', 'LYUTEZH', 'LYUTIZH', 'La Roca del V', 'Ladna', 'Langenhagen', 'Lapovo', 'Lasko', 'Lebork', 'Legnica', 'Lemesos', 'Levoca', 'Limasoll', 'Liptovsky Mik', 'Lisboa', 'Ljubljana', 'Lodz', 'Lohvitsa', 'London', 'Loosdorf', 'Los Angeles', 'Lubaczow', 'Lublin', 'Lugano', 'Luton', 'Lutsk', 'Lviv', 'Lwowek Slaski', 'M. KYIV', 'M. ODESA', 'MACANET', 'MADEIRA PORTU', 'MADONNA DI CA', 'MADRID', 'MAGALA', 'MAGDALINOVKA', 'MAGLIANO SABI', 'MAINZ', 'MAISHOFEN', 'MAKARIV', 'MAKARSKA', 'MAKEYEVKA', 'MAKIIVKA', 'MALA DANILOVK', 'MALA DANYLIVK', 'MALA DANYLIVN', 'MALA ROGAN', 'MALE', 'MALI PIDLISKI', 'MALIA/O', 'MALIBU', 'MALLORCA', 'MALODOLYNSKE', 'MALTA', 'MALYI BEREZNY', 'MALYY BEREZNY', 'MAMALYGA', 'MAMRYN', 'MANAUS', 'MANCHESTER', 'MANDELIEU CED', 'MANISES', 'MANKIVKA', 'MANSFIELD', 'MANTOVA', 'MARGANETS', 'MARHALIVKA', 'MARIAN. LAZNE', 'MARIANSKE LAZ', 'MARINA DEL RE', 'MARIUPOL', 'MARKUSZOW', 'MARNE LA VALL', 'MARSAXLOKK', 'MARSEILLE', 'MARTYNOVKA', 'MARYANIVKA', 'MARYANOVKA', 'MATARAM', 'MATRABALLA', 'MAYAKI', 'MAYFAIR', 'MAZAGON', 'MDINA', 'MEDYKA', 'MELITIPOL', 'MELITOPOL', 'MENDRISIO', 'MENTON', 'MEREFA', 'MERIGNAC', 'MERKINE', 'MESTRINO', 'MIAMI', 'MIAMI BCH', 'MIAMI BEACH', 'MICHALOVCE', 'MICHALOVCE  S', 'MID VALLEY', 'MIDVALLEY', 'MIERZECICE', 'MIGDAL', 'MIKOLAYIV', 'MIKULOV', 'MILAN', 'MILANO', 'MILANO EST', 'MILANO MARITT', 'MILNA', 'MINAY', 'MINSK', 'MINSK.OBL.', 'MIRGOROD', 'MIRONOVKA', 'MISSGUIDED.CO', 'MISSISSAUGA', 'MITNITSA', 'MIZHGIRYA', 'MIZIKEVICHA', 'MIZIKEVYCHA', 'MIZYKEVYCHA', 'MO', 'MOENA', 'MOGILEV', 'MOLNDAL', 'MOLODAVA DRUG', 'MOLODEJNOE', 'MONACO', 'MONASTYRYSKA', 'MONCADA REIXA', 'MONEY.YANDEX.', 'MONFALCONE', 'MONOPOLI', 'MONT-RAS', 'MONTE CARLO', 'MONTECATINI T', 'MONTGAT', 'MONTREUX', 'MOPTI', 'MORDIALLOC', 'MORGEX', 'MOSCOW', 'MOSCOW REG.', 'MOSCOW-123557', 'MOSCOW-127051', 'MOSHNY', 'MOSKOVSK.OBL.', 'MOSKOVSKAYA O', 'MOSKOVSKAYA R', 'MOSKOVSKIIY R', 'MOSKOW', 'MOSKVA', 'MOSKVA G', 'MOSONMAGYAROV', 'MOSTISKA', 'MOSTYSKA', 'MOUNTAIN', 'MOUNTAIN VIEW', 'MOZYRSKIY R-N', 'MRIYA', 'MSK', 'MSZCZONOW', 'MUENCHEN', 'MUENCHEN FLUG', 'MUENCHEN-FLUG', 'MUKACHEVE', 'MUKACHEVO', 'MUMBAI', 'MUNICH', 'MURSKA SOBOTA', 'MYGIYA', 'MYKOLAIIV', 'MYKOLAIV', 'MYKOLAYIV', 'MYLA', 'MYNAI', 'MYRGOROD', 'MYROTSKE', 'MYSLENICE', 'MYZYKEVICHA V', 'MYZYKEVYCHA', 'Madrid', 'Makarov', 'Mala danilovk', 'Markuszow', 'Marupes nov.', 'Mattsee', 'Mayaki', 'Medyka', 'Mendrisio', 'Mendrisio (fo', 'Merefa', 'Meyrin', 'Mezhgorye', 'Miami', 'Miami Beach', 'Michalovce', 'Mielno', 'Mirkow', 'Mniszkow', 'Morawica', 'Moscow', 'Moskva', 'Mosonmagyaro', 'Mountain View', 'Mouttagiaka (', 'Muenchen', 'Muenchen-Flug', 'Munchen', 'Myslowice', 'N ELITH', 'N MARMARAS', 'N MIAMI BEACH', 'N VODOLAGA', 'N-SEVERSKIY', 'N. MARMARAS', 'N. MIAMI BEAC', 'N. OLEXANDRIV', 'NACKA', 'NADRIVNA', 'NADVIRNA', 'NADVORNA', 'NADVORNAYA', 'NAGYKANIZSA', 'NALAGURAIDHOO', 'NAPAPIIRI ROV', 'NAPLES', 'NAPOLI', 'NATANYA', 'NATZRAT ILIT', 'NAVLYA', 'NAZARETH ILL', 'NAZERAT ELIT', 'NAZERET ILIT', 'NAZRAT ELIT', 'NE STATO', 'NEA MOUDANIA', 'NEBELYTSKA S-', 'NECHAYANE', 'NEDOGARKY', 'NEMIRIV', 'NEMOVICHI', 'NEMYRIV', 'NEOS MARMA', 'NEOS MARMARAS', 'NERUBAISKE', 'NERUBAYSK', 'NERUBAYSKE', 'NESEBAR', 'NESTERIVKA', 'NETANYA', 'NETISHIN', 'NETISHYN', 'NETZRAT ELIT', 'NEVE YAMIN', \"NEVYC'KE SELO\", 'NEW ALBANY', 'NEW YORK', 'NEWTON ABBOT', 'NEZHIN', 'NICE', 'NICE CEDEX 03', 'NICE CEDEX 1', 'NICE CEDEX 3', 'NICKELSDORF/L', 'NICOSIA', 'NIEF.-OESCHE.', 'NIKITI', 'NIKITINTSY', 'NIKOLAEV', 'NIKOLAYEV', 'NIKOPOL', 'NIZHYN', 'NMIAMIBEACH', 'NO', 'NO EST', 'NO NORD', 'NONE', 'NORDENDORF', 'NORTH MIAMI', 'NORTH MIAMI B', 'NORTH YORK', 'NORTHLAKE', 'NOTTING HILL', 'NOV. KAKHOVKA', 'NOVA KAHOVKA', 'NOVA KAKHOVKA', 'NOVA ODESA', 'NOVA ROMANIVK', 'NOVAKI', 'NOVAKIVSKA', 'NOVAYA VODOLA', 'NOVE', 'NOVE ZAPORIZH', 'NOVENTA DI PI', 'NOVGORODKA', 'NOVI BEOGRAD', 'NOVI LIGURE', 'NOVI PETRIVTS', 'NOVI SAD', 'NOVOARHANGELS', 'NOVODARIVKA', 'NOVODMYTRIVKA', 'NOVOE ZAPOROZ', 'NOVOGRAD-VOLI', 'NOVOGRAD-VOLY', 'NOVOMOSKOVSK', 'NOVOOLEKSANDR', 'NOVOROSSIYSK', 'NOVOSIBIRSK', 'NOVOVOLYNSK', 'NOVOYANISOL', 'NOVOYAVORIVSK', 'NOVYI', 'NOVYI YARYCHI', 'NTBAG', 'NTNYA', 'NUERNBERG', 'NWB COLCHESTE', 'NYC', 'NYIREGYHAZA', 'NZRAT', 'NZRAT ELIT', 'Napajedla', 'Napapiiri', 'Nesebar', 'Neuss', 'New Dubai', 'Nicosia', 'Niemodlin', 'Nitra', 'Nosovka', 'Novaya Vodola', 'Noventa Di Pi', 'Nowy Dwor Maz', 'Nowy Targ', 'Nuerburg', 'Nyiregyhaza', 'O', 'O BARR', 'O EST', 'OBIDOS', 'OBUHIV', 'OBUHOV', 'OBUKHIV', 'OBUKHOV', 'OD.OBL.KOMINT', 'ODESA', 'ODESKA OBL', 'ODESKA OBLAST', 'ODESSA', 'ODESSA-NOVOAZ', 'ODESSKAYA OBL', 'ODINTSOVSKIY', 'ODNOKLASSNIKI', 'ODSSA', 'OFFICE.COM', 'OKHTYRKA', 'OKRUG GORNJI', 'OLBIA', 'OLEKSANDRIYA', 'OLESNICA', 'OLEVSK', 'OLOMOUC', 'ONLINE CAR HI', 'ONLINE TRANSP', 'ONOKIVTSI', 'OREKHOV', 'ORENBURGSKY R', 'ORIO AL SERIO', 'ORLANDO', 'OSAKA', 'OSIO SOPRA', 'OSLO', 'OSTER', 'OSTRITSA', 'OSTROG', 'OSTRYCYA', 'OSTRYTSYA', 'OTTAWA', 'OUAGADOUGOU', 'OVA OVEST', 'OVIDIOPOL', 'OVRUCH', 'OXFORD CIRCUS', 'OXFORD CORNMR', 'OXFORD ST', 'OXFORD STREET', 'OZAROWICE', 'Oakville', 'Oborniki', 'Odesa', 'Odessa', 'Olomouc', 'Osiecza', 'Oslo', 'Oswiecim', 'Otradnoe', 'Ozarowice', 'P BORSCHAGIVK', 'P-A BORSCHAGI', 'P-BORSCHAGIVK', 'PACEVILLE', 'PADERNO DEL G', 'PADERNO DUGNA', 'PADOVA', 'PAHANG', 'PALAFRUGELL', 'PALAIO FALIRO', 'PALANGA', 'PALAU', 'PALAU-SOLITA', 'PALMA DE MALL', 'PALS', 'PALYANITSA', 'PAMPLONA', 'PANORAMA CITY', 'PAPHOS', 'PARIS', 'PARIS 15', 'PARIS 8', 'PARIS2050351/', 'PARMA', 'PARNDORF', 'PASIANO DI PO', 'PASIKY ZUBRYC', 'PASIKY-ZUBRET', 'PAVLIVKA', 'PAVLOGRAD', 'PAVSHYNO', 'PAYPAL COM', 'PEFKOCHORI', 'PEGNITZ', 'PEIRAIAS', 'PENICHE', 'PEREGINSK', 'PEREMYSHLYANY', 'PERESHEPINO', 'PEREYASLAV-HM', 'PERKIN REVELL', 'PERM', 'PERO', 'PERSHOTRAVNEV', 'PERVOM. (NIK)', 'PERVOMAYSK', 'PESCHANKA', 'PESNICA/MB', 'PESOCHIN', 'PESSOCHIN', 'PETACH TIKVA', 'PETAH TIKVA', 'PETERSBURG', 'PETRA', 'PETRIK', 'PETRODVORETS', 'PETROPAVLISKA', 'PETROPAVLIVKA', 'PETROPAVLOVSK', 'PEVKOCHORI CH', 'PGT YUBILEYNY', 'PGT.SOLENOYE', 'PHILADELPHIA', 'PHOENIX', 'PHUKET', 'PIASECZNO', 'PIASECZNO K.', 'PIASKI', 'PIAZZOLA SUL', 'PIDBIRTSI', 'PIDDUBTSI', 'PIDGIRCI', 'PIDGIRNE', 'PIDGIRTSI', 'PIDHORODNE', 'PIESTANY', 'PIETRASANTA', 'PINEDA DE MAR', 'PINZOLO', 'PIRYATIN', 'PISA', 'PISCATAWAY', 'PISCHANKA', 'PISOCHIN', 'PISOCHYN', 'PISOCHYNSKA S', 'PL AMERICAS A', 'PLAISANCE', 'PLATJA D ARO', 'PLAYA DEL REY', 'PLAYA TORVISC', 'PLESETSKOE', 'PLOVDIV', 'PLZEN', 'POCHAIV', 'PODGAYTSY', 'PODGORICA', 'PODGORTSY', 'PODVIRKY', 'POGREBICHSHE', 'POGREBYCHE', 'POGREBYSHE', 'POIANA BRASOV', 'POINTE DE FLA', 'POKOTILOVKA', 'POKROVSKOE', 'POLGAR', 'POLONE', 'POLTAVA', 'POLYANA', 'POLYANETSKE', 'POLYANICYA', 'POLYANITSA', 'POLYANYTSYA', 'POMPEI', 'PONTE NOSSA', 'PONTE SAN PIE', 'POPASNA', 'POPELNYA', 'POPIVKA', 'PORTLAND', 'PORTO', 'PORTO KARR', 'PORTO SAN GIO', 'PORTOFINO', 'PORTOGRUARO', 'PORTOROZ', 'POSAD-POKROVS', 'POZNAN', 'PRAHA', 'PRAHA 1', 'PRAHA 2', 'PRAHA 3', 'PRAHA 4', 'PRAHA 5', 'PRAHA 6', 'PRAHA 8', 'PRAHA 9', 'PRASLAVICE', 'PRAT DE LLOBR', 'PRAT LLOBREGA', 'PRAVETS', 'PRE  SAINT DI', 'PREGANZIOL', 'PREMIER FR', 'PRESOV', 'PRESOV  SK', 'PRILIMANSKOE', 'PRILUKI', 'PROCOV', 'PROLISKI', 'PROLISKY', 'PROSTEJOV', 'PRYLUKY', 'PRYLUTSKE', 'PRYVILNE', 'PRZEMYSL', 'PRZEWORSK', 'PRZEWORSK-GWI', 'PUERTO CRUZ', 'PUERTO DE LA', 'PUL9816627536', 'PUL9821946479', 'PUNTA ALA', 'PUNTA CANA', 'PUNTARENAS', 'PUSHKIN', 'PUSTOMITI', 'PUTEAUX', 'PUTRIVKA', 'PYATIKHATKI', 'PYATNYCHANY', 'PYLYPOVYCHI', 'PYRYATYN', 'PYRZOWICE', 'Paris', 'Parndorf', 'Pelplin', 'Perchtoldsdor', 'Peremyshlyany', 'Pereyaslav-Hm', 'Peschanka', 'Petropavlovsk', 'Piaseczno', 'Pillgram', 'Piran', 'Planegg', 'Podgorica', 'Pokrovskoye', 'Polgar', 'PolgС”r', 'Poltava', 'Polyanicya', 'Pomorie', 'Portoroz', 'Poznan', 'Praha', 'Praha - Barra', 'Praha - Olsin', 'Praha 1', 'Praha 10', 'Praha 8', 'Praha 9', 'Prostejov', 'Przemysl', 'Pustimer', 'Pustomiti', 'Pyla (Tourist', 'Pyrzowice', 'QUEENSWAY', 'QUINTO DI TRE', 'Quepos', 'RADA VOLNENSK', 'RADAUTI', 'RADOM II', 'RADOMISHL', 'RADYMNO', 'RAGGED POINT', 'RAK', 'RAKOSCHINO', 'RAKOSHINO', 'RAMAT GAN', 'RAMATUELLE', 'RANUA', 'RAPALLO', 'RAS ALKHAIMAH', 'RATE 11.1453', 'RATE 15.643', 'RATE 17.6136', 'RATE 17.6746', 'RATE 17.8783', 'RATE 18.047', 'RAVENNA', 'RAZDELNAYA', 'RAZDELNOYE', 'REGENCOS', 'REGENT ST 2', 'REGGELLO', 'RENNES', 'RENON', 'REPUBBLICA DI', 'RESEDA', 'RESHETYLIVKA', 'RESHETYLIVSKA', 'REUS', 'REVOVE', 'REZZATO', 'RHO', 'RIBEIRA BRAVA', 'RICANY', 'RICCIONE', 'RICHKI', 'RICHKY', 'RIGA', 'RIJEKA', 'RIMINI', 'RIO DE JANEIR', 'RIOMAGGIORE', 'RISHON LEZIY', 'RISON LZION', 'RIVA DEL GARD', 'RIVNE', 'ROCA DEL VALL', 'ROERMOND', 'ROGACHEVSKI R', 'ROGATYN', 'ROISSY', 'ROISSY CDG CE', 'ROKSOLANY', 'ROKYTNE', 'ROMA', 'ROMANIVKA', 'ROMANKIV', 'ROMANKOV', \"ROMANO D' EZZ\", 'ROMNY', 'RONCADELLE', 'ROPOTUHA', 'ROSAVA', 'ROSES', 'ROSTOV NA DON', 'ROSTOV-NA-DON', 'ROSTOV-ON-DON', 'ROSYTH', 'ROUEN', 'ROUGEMONT', 'ROUSSE', 'ROVERETA', 'ROVERETO', 'ROVNO', 'ROZDILNA', 'ROZHNYATIV', 'ROZIVKA', 'ROZOVKA', 'ROZZANO', 'RUBI', 'RUBIZHNE', 'RUDNYA', 'RUKATUNTURI', 'RUNGIS', 'RUSKA-POLYANA', 'RUZHIN', 'RZESZOW', 'RZGOW', 'RZGOW K. LODZ', 'RZHISHCHEV', 'Radom', 'Ratne', 'Rentix Kft', 'Riga', 'Roermond', 'Roermond LI', 'Rogatin', 'Roma', 'Roszke', 'Ruda Slaska', 'Ruka', 'Rukatunturi', 'Ruse', 'Russia', 'Rzeszow', 'Rzgow', 'Rzgow k. Lodz', 'S BOLSHYE LAZ', 'S BORSCHAGIVK', 'S MOLODYZHNOY', 'S. CHUPIRA', 'S. KHODOSIVKA', 'S. S.BORSCHAG', 'S. SOKILNYKY', 'S. STOYANKA', 'S. VITA-POSHT', 'S.BORSCHAGOVK', 'S.CHABANY', 'S.CHERKASIKA', 'S.HORONDA', 'S.KARPATY', 'S.KHODOSIVKA', 'S.RAKOSHYNO', 'S.VISOKIY', 'S/R IVANKIVSK', 'S/RADA KOPYST', 'S/RADA MYTNYT', 'S7', 'SAAS-FEE', 'SADKY', 'SAHY VIL.', 'SAINT JEAN CA', 'SAINT TROPEZ', 'SALINAS', 'SALOU', 'SALZBURG', 'SALZBURG-GNIG', 'SAMBIR', 'SAMBOR', 'SAMUTPRAKAN', 'SAN CARLOS', 'SAN DIEGO', 'SAN DONA  DI', \"SAN DONA' DI\", 'SAN FRANCISCO', 'SAN GIOVANNI', 'SAN JOSE', 'SAN JUAN', 'SAN MARINO', 'SAN MARINO DI', 'SAN MAURO PAS', 'SAN REMO', 'SAN VICENTE D', 'SAN YA', 'SAN ZENONE DE', 'SANKT-PETERBU', 'SANKT-PETERS', 'SANKT-PETERSB', 'SANREMO', 'SANT ADRIA DE', 'SANT JOAN DES', 'SANT JULIA DE', 'SANTA AGNES D', 'SANTA BARBARA', 'SANTA COLOMA', 'SANTA CRUZ', 'SANTA MARIA O', 'SANTA MONICA', 'SANTA SUSANA', 'SANTA SUSANNA', 'SANTANDER', 'SANTILLANA', 'SANTILLANA DE', 'SANTO ANTAO D', 'SANYA', 'SARASA', 'SARNY', 'SARRE', 'SATU MARE', 'SAVIGNANO SUL', 'SCHASLIVOE', 'SCHASLYVE', 'SCHIPHOL', 'SCHIPHOL AIRP', 'SCOTTSDALE', 'SEATTLE', 'SEBYNE', 'SEGRATE', 'SEKULE', 'SELANGOR', 'SELCE', 'SEMENIVKA', 'SEMPAS', 'SEMPETER PRI', 'SEPANG', 'SEREDNIE', 'SERGIEV POSAD', 'SERIFOS', 'SERRAVALLE SC', 'SERRIS', 'SESTO SAN GIO', 'SESTRI LEVANT', 'SETTIMO MILAN', 'SEVASTOPOL', 'SEVERODONETSK', 'SEVERODONETZK', 'SEZANA', 'SHABO', 'SHANGHAI', 'SHANNON, CO.', 'SHARIN', 'SHARJAH', 'SHAROVECHKA', 'SHARYN', 'SHATRI', 'SHCHERBANI', 'SHCHORSK', 'SHENZHEN', 'SHEPETIVKA', 'SHFAYEM', 'SHIRYAYEVO', 'SHORDITCH', 'SHOSTKA', 'SHeremetevo', 'SIBENIK', 'SIENA', 'SILENTCIRCLE.', 'SILLIAN', 'SILSKA RADA K', 'SIMER', 'SIMFEROPOL', 'SINGAPORE', 'SINGAPROE', 'SINTRA', 'SIOFOK', 'SIRET', 'SIRKKA', 'SIRMIONE', 'SIROR', 'SITHONIA', 'SKALAT', 'SKARGYNTSI', 'SKHIDNYTSYA', 'SKIDEL', 'SKOLE', 'SKOPJE', 'SKRILL', 'SKVYRA', 'SLAVSKE', 'SLAVSKOYE', 'SLAVUTICH', 'SLOUGH', 'SLOVENSKE KON', 'SLUTSK', 'SMELA', 'SMT ALEKSANDR', 'SNINA', 'SNINA SK', 'SNYATIN', 'SNYATYN', 'SO SUD', 'SOBRAL M AGRA', 'SOBRANCE', 'SOCHI', 'SOF. BORSCHAG', 'SOF.BORSCAGIV', 'SOFBORSCHAGIV', 'SOFIA', 'SOFIEVSKAYA B', 'SOFIIVSKA-BOR', 'SOFIYA', 'SOFIYIVKA', 'SOKELNYKY', 'SOKILNIKI', 'SOKILNUKU', 'SOKILNYKY', 'SOKILNYKY V.', 'SOKOLIVKA', 'SOKOLIVSKE V.', 'SOKOLNIKI', 'SOLOBKIVTSI', 'SOLOMONOVO', 'SOLONKA', 'SOLONKIVSKA S', 'SOLOTVYNO', 'SOLVANG', 'SOMERSET', 'SOMMA LOMBARD', 'SONYACHNE', 'SOPOSHIN', 'SOPOT', 'SORRENTO', 'SOSNICOWICE', 'SOUTH KENSING', 'SOUTH PLAIN', 'SPAIN', 'SPATA', 'SPATON   L', 'SPLIT', 'SPRING', 'SREM', 'SSR INTERNATI', 'ST', 'ST BON TARENT', 'ST JEAN CAP F', \"ST JOHN'S\", 'ST JULIANS', 'ST KITTS', 'ST LAURENT DU', 'ST MAARTEN', 'ST MALO', 'ST MEDARD EN', 'ST PAUL', 'ST PAUL DE VE', 'ST-PETERBURG', \"ST. JOHN'S\", 'ST. MICHAEL', 'ST.-PETERSBUR', 'ST.KITTS', 'ST.PETERSBURG', 'STANISLAVOVO', 'STANSTED', 'STANWAY', 'STANWAY COLCH', 'STARI GRAD, B', 'STARI KUTY', 'STAROBESHEVE', 'STAROKONSTANT', 'STAROKOZACHYE', 'STAROMAYAKIVS', 'STAROVOYOTOVE', 'STAROVOYTOVE', 'STARYI LUBAR', 'STATION ROAD', 'STAVICHE PGT', 'STE PREUVE', 'STOCKHOLM', 'STOCKHOLMARLA', 'STOCKPORT', 'STOKE ON TREN', 'STOLPYAGI', 'STON', 'STONEHENGE', 'STOROJNYCYA', 'STOROZHNYTSYA', 'STOYANKA', 'STRABICHEVO', 'STREET', 'STRESA', 'STRILETSKI KU', 'STRIY', 'STRUMIVKA', 'STRYI', 'STRYKOW', 'STRYY', 'STRYZHAVKA', 'STUDENA', 'STUFCHYNTSI', 'SUCEAVA', 'SUDBURY', 'SUEZ', 'SUHOY LIMAN', 'SUMY', 'SUNNY ISL BCH', 'SUNNY ISLES', 'SUNNY ISLES B', 'SUNRISE', 'SUPRUNIVKA', 'SURAT THANI', 'SURATTHANI', 'SURGUT', 'SUSLY', 'SUSSEX HOTEL', 'SVALIAVA', 'SVALJAVA', 'SVALYAVA', 'SVETI JURIJ O', 'SVETLYE GORY', 'SVIDNIK', 'SWINDON', 'SYCHAVKA', 'SYDNEY', 'SYKIA', 'SZCZECIN', 'Saarenkyl.', 'Saas-Fee', 'Salzburg', 'San Francisco', 'Schiphol Airp', 'Schipol Airpo', 'Sedzinko', 'Selb', 'Sharjah', 'Sion', 'Sirkka', 'Skrill', 'Snina', 'Sobrance', 'Soelden', 'Sofiyevka', 'Sofiyivska Bo', 'Solotvino', 'Sosnica', 'Sosnowiec', 'St. Moritz', 'St. Vigil', 'St. Wolfgang', 'Stoianka', 'Strasswalchen', 'Strykow', 'Suceava', 'Sudova Vyshny', 'Svalyava', 'Sydney', 'Szczecin', 'Szczuczyn', 'T', 'TABORIVKA', 'TAIROVE', 'TAIROVO', 'TAIROVSKA S/R', 'TARQUINIA', 'TARRAGONA', 'TATARBUNARY', 'TATARIV', 'TATSENKY', 'TAXBIEX', 'TAYIROVE', 'TAYIROVSKA', 'TBILISI', 'TD ROERMOND', 'TEGLIO VENETO', 'TEL AVIV', 'TEL AVIV YAF', 'TEL AVIV-JAF', 'TEL HASHOMER', 'TEL-AVIV', 'TEPLODAR', 'TEREBLECHE', 'TEREZINE', 'TERLANO', 'TERNOPIL', \"TERNOPIL'\", 'TERNOPOL', \"TERNOPOL'\", 'TESSERA', 'THERMI', 'THERMI,EMP.CO', 'THES/NIKI', 'THESSALONI', 'THESSALONIKI', 'THESSALONIKIS', 'TICKET MAILED', 'TILLE', 'TIRASPOL', \"TIRASPOL'\", 'TIRAT HAKARM', 'TIVAT', 'TO', 'TO-S.CROCE', 'TOLL WAY', 'TOPOLA', 'TORBOLE', 'TORBOLE SUL G', 'TORINO', 'TORONTO', 'TORREJON', 'TORRELAVEGA', 'TORRENT', 'TORRI DI QUAR', 'TORZYM', 'TOVISA DIRECT', 'TR. ODESA-KYI', 'TRASSA KIEV-C', 'TREBISOV', 'TREMBLAY EN', 'TREMBLAY EN F', 'TREVISO', 'TRHOVE SVINY', 'TRINITA  D AG', \"TRINITA' D' A\", \"TRINITA' D'AG\", 'TRIVANDRUM', 'TROGIR', 'TROSTYANETS', 'TROYICKE', 'TROYITSKE', 'TRUSKAVEC', 'TRUSKAVETS', 'TSAR-KALOIAN', 'TSARICHANKA', 'TSIURUPYNSK', 'TSUMAN', 'TSYRKUNY', 'TSYURUPYNSK', 'TULCHIN', 'TULSA', \"TUR'YA PASIKA\", 'TURGIS GREEN', 'TURIYSK', 'TURKA', 'TURKEY', 'TURYA-PASIKA', 'TUSZYN', 'TVER', 'TWIN TOWER', 'TYACHEVO', 'TYACHIV', 'TYMOSHIVKA', 'TYSMENYTSYA', 'Tallinn', 'Tarnow', 'Tbilisi', 'Teplodar', 'Ternopil', 'Transact', 'Trebisov', \"Tsuman'\", 'Turka', 'U HGOROD', 'UEVILLE', 'UGHOROD', 'UGRYNIV', 'UJGOROD', 'UK', 'UKRAINE', 'UKRAINIAN SSR', 'UKRAINKA', 'ULIANIVKA', 'ULM', 'ULYANIVSKYI R', 'ULYANOVKA', 'ULYANOVSK', 'ULYANOVSKYY R', 'UMAN', 'UNAWATUNA', 'UNIT G15 WEST', 'UNITED KINGDO', 'UNIVERSAL CIT', 'UROZHAYNOE', 'USA', 'USATIVKA', 'USATOVO', 'USOVO-TUPIK', 'USTYLUG', 'UTSK', 'UVILEYNE', 'UZGOROD', 'UZHGOROD', 'UZHHOROD', 'UZHOGOROD', 'UZHOROD', 'Ukrainka', 'Uniejow', 'Uzhgorod', 'V KOROPETS', 'V NNYTSIA', 'V OLEKSANDRIV', 'V OMELYANYK', 'V. FONTANKA', 'V. PECHERY', 'V.BEREZNIJ', 'V.BEREZNYI', 'V.BEREZOVYTSY', 'V.KOROPETS', 'V.Mezirici', 'V.OLEKSANDRIV', 'V.SOKOLNIKI', 'VACARISAS', 'VALE DE JANEL', 'VALENCIA', 'VALIA KUZMINA', 'VALLEY STREAM', 'VAN NUYS', 'VANTAA', 'VARNA', 'VASAROSNAMENY', 'VASCO GOA', 'VASIL KIV', 'VASILKIV', 'VASILKOV', 'VASSILKOV', 'VASYLIVKA', 'VASYLKIV', 'VASYLKIVSKYY', 'VELES', 'VELIKA PLANA', 'VELIKAYA KOPA', 'VELIKAYA SOLT', 'VELIZY-VILLAC', 'VELKA BITES', 'VELYKA DYMERK', 'VELYKA KRUCHA', 'VELYKI GAI', 'VELYKODOLYNSK', 'VELYKODYMER', 'VELYKOSALTANI', 'VELYKOSILKY', 'VELYKYI OLEKS', 'VENEZIA', 'VENICE', 'VENTIMIGLIA', 'VERBA', 'VERH KOROPETS', 'VERHN KOROPET', 'VERHNIY KOROP', 'VERKHNEDNEPR.', 'VERKHNIY KORO', 'VERONA', 'VERSAILLES', 'VERSSAILLES', 'VESELOE', 'VESNYANE', 'VEVEY', 'VICOLUNGO', 'VIENNA', 'VIETNAM', 'VIKTORIYA', 'VILAFLOR', 'VILLA DEL CON', 'VILLAFRANCA D', 'VILLAGE SOKIL', 'VILLAGRAZIA D', 'VILLENEUVE D', 'VILLEPINTE', 'VILLESSE', 'VILLORBA', 'VILMINORE DI', 'VILNE', 'VILNIUS', 'VILNYANSK', \"VILOBI D'ONYA\", 'VIMPERK', 'VINITSA', 'VINNICYA', 'VINNITSA', 'VINNITSKIE KH', 'VINNITSYA', 'VINNITZYA', 'VINNUCYA', 'VINNUTSYA', 'VINNYCYA', 'VINNYTSA', 'VINNYTSIA', 'VINNYTSKA OBL', 'VINNYTSKI HUT', 'VINNYTSYA', 'VINNYTZYA', 'VINOGRADOV', 'VINYTSA', 'VINYTSYA', 'VISA DIRECT', 'VISA TRANSFER', 'VISHGOROD', 'VISHHOROD', 'VISHNEVOE', 'VISHNEVOYE', 'VISHNIV', 'VISNJAN', 'VITA POSHTOVA', 'VITA-POSHTOVA', 'VITORIA', 'VIZOVICE', 'VLAD.-VOLYN.', 'VLADICIN HAN', 'VOJTOVTSY', 'VOL-VOLYNSKYI', 'VOLCHANSK', 'VOLHOV', 'VOLNOGORSK', 'VOLNOVAKHA', 'VOLNYANSK', 'VOLODARSKOE', 'VOLODYMYR VOL', 'VOLODYMYR-VOL', 'VOLODYMYRVOLY', 'VOLOHOVO-YARS', 'VOLOVETS', 'VOLOZHIN', 'VOLYTSA', 'VOROHTA', 'VOROKHTA', 'VOZNESENSK', 'VOZNESSENSK', 'VRCIN', 'VULPELLAC', 'VYLOK', 'VYNNYATSYA', 'VYNNYTSYA', 'VYNOGRADIV', 'VYNOGRADOV', 'VYNOHRADIV', 'VYSHEVYCHI', 'VYSHGOROD', 'VYSHHOROD', 'VYSHNEVE', 'VYSHNIV', 'VYSKOV', 'VYSOKOGORNOE', 'VYSOKYY', 'VYZHGOROD', 'Valasske Mezi', 'Van Nuys', 'Vecses', 'Vevey', 'Vico Morcote', 'Visa Direct', 'Visa MT', 'Visa Transfer', 'Vizhnica', 'Volovets', 'Vomp', 'Vosendorf', 'Vrutky', 'VСЃNNYTSIA', 'W.QIWI.RU', 'WALTHAMSTOW', 'WANCHAI', 'WARNER BROS', 'WARSAW', 'WARSZAWA', 'WASHINGTON', 'WASHINGTON DC', 'WATFORD', 'WEITNAU', 'WELWYN GARDN', 'WEST HOLLYWOO', 'WEST ONE', 'WESTMINSTER', 'WEYBRIDGE', 'WIEN', 'WIEN-FLUGHAFE', 'WIERZCHOSLAWI', 'WIESBADEN', 'WINDSOR', 'WOKING, SURRE', 'WOODINVILLE', 'WROCLAW', 'WWW.AMAZON.IT', 'WWW.HOLIDAY-I', 'WWW.OCEANBANK', 'WWW.PAYU.RU', 'WWW.PLATRON.R', 'WWW.ROBOKASSA', 'WWW.STEAMPOWE', 'WWW.TRAVELSTA', 'WYSHNIV', 'Warszawa', 'Wien', 'Wien Flughafe', 'Wien-Airport', 'Wien-Flughafe', 'Wien-Flughfaf', 'Wien-Schwecha', 'Wien/Flughafe', 'Wiesbaden', 'Wroclaw', 'XALKIDIKH', 'XALKIDIKI', 'XAVEROVKA', 'XMELNICK', 'YAKUSHINSKA', 'YAKUSHINTSY', 'YAKUSHYNCI SE', 'YALTA', 'YAMNYTSYA', 'YANOSHI', 'YAREMCHA', 'YAREMCHE', 'YARMOLYNCI', 'YASEN', 'YASINYA', 'YASSINOVATAYA', 'YAVNE', 'YAVORIV', 'YAVOROV', 'YELYSAVETIVKA', 'YEREVAN', 'YSHGOROD', 'YUGNY', 'YUMA', 'YURIV', 'YUVILEINE', 'YUVILEYNE', 'YUZHNE', 'YUZHNYY', 'YUZNIY', 'YUZNYI', 'Z hony', 'ZABILOCHCHYA', 'ZABUCHYE', 'ZAHONY', 'ZAKARPATSKA O', 'ZAKINTHOS', 'ZAKOPANE', 'ZALEC', 'ZALISCYKY', 'ZALISSYA', 'ZALUZHSYA', 'ZAMOSC', 'ZAPOR ZHZHYA', 'ZAPORIHZHYA', 'ZAPORIJJA', 'ZAPORIJYE', 'ZAPORIZHIA', 'ZAPORIZHYA', 'ZAPORIZHZHIA', 'ZAPORIZHZHJA', 'ZAPORIZHZHYA', 'ZAPORIZIA', 'ZAPOROGIE', 'ZAPOROGYE', 'ZAPOROSHYE', \"ZAPOROZH'E\", 'ZAPOROZHE', 'ZAPOROZHIE', 'ZAPOROZHJE', 'ZAPOROZHYE', 'ZAPYTOV', 'ZARICHAN', 'ZARICHANSKA S', 'ZARICHANY', 'ZARVANTSI', 'ZARVANTSI V.', 'ZATOKA', 'ZAVENTEM', 'ZBASZYNEK', 'ZBOROV', 'ZDORIVSKA SRA', 'ZELENYY GAY', 'ZELL/SEE', 'ZHABINKA', 'ZHABINKOVSK.R', 'ZHASHKIV', 'ZHELEZNY PORT', 'ZHELTYYE VODY', 'ZHITKOVICHS.R', 'ZHITOMIR', 'ZHITOMYR', 'ZHOVKVA', 'ZHOVTI VODY', 'ZHOVTNEVA', 'ZHOVTNEVE', 'ZHUKOVKA', 'ZHYTOMYR', 'ZITOMIR', 'ZMIINETS', 'ZMIIV', 'ZNAMYANKA', 'ZOAGLI', 'ZOLA PREDOSA', 'ZOLOCHEV', 'ZOLOCHIV', 'ZOLOTONOSHA', 'ZOMET GLILOT', 'ZOMET KASTINA', 'ZORROZA BILBA', 'ZRECE', 'ZSAMBEK', 'ZUBRA', 'ZUG', 'ZUR IGAL', 'ZVARYCHI', 'ZVEREV', 'Zakopane', 'Zalec', 'Zaporizhzhya', 'Zatoka', 'Zaventem', 'Zell am See', 'Zmiev', 'Zuerich-flugh', 'Zurich', 'Zurich-Flugha', 'Zyrzyn', 'amzn.com/prme', 'doVISA DIRECT', 'edreams.es', 'eilot', 'element5 info', 'g.p.GORODEYA', 'gevataym', 'helioplis', 'help.uber.com', 'http://nethou', 'http://nextpa', 'http://www.bi', 'lod namal te', 'm.Lutsk', 'support.uber.', 'tel aviv', 'trip ru', 'u VISA DIRECT', 'www.fb.me/ads', 'www.fb.me/cc', 'www.tvly.com']\n"
     ]
    }
   ],
   "source": [
    "print(sorted(cat_df['city'].unique().tolist()))"
   ]
  },
  {
   "cell_type": "code",
   "execution_count": 366,
   "metadata": {},
   "outputs": [
    {
     "name": "stdout",
     "output_type": "stream",
     "text": [
      "3018\n"
     ]
    }
   ],
   "source": [
    "print(len(sorted(cat_df['city'].unique().tolist())))"
   ]
  }
 ],
 "metadata": {
  "kernelspec": {
   "display_name": "Python 3",
   "language": "python",
   "name": "python3"
  },
  "language_info": {
   "codemirror_mode": {
    "name": "ipython",
    "version": 3
   },
   "file_extension": ".py",
   "mimetype": "text/x-python",
   "name": "python",
   "nbconvert_exporter": "python",
   "pygments_lexer": "ipython3",
   "version": "3.6.4"
  }
 },
 "nbformat": 4,
 "nbformat_minor": 2
}
