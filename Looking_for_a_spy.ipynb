{
 "cells": [
  {
   "cell_type": "code",
   "execution_count": 1,
   "metadata": {
    "collapsed": true
   },
   "outputs": [],
   "source": [
    "import pandas as pd\n",
    "import time\n",
    "import datetime\n",
    "import numpy as np"
   ]
  },
  {
   "cell_type": "code",
   "execution_count": 2,
   "metadata": {
    "collapsed": true
   },
   "outputs": [],
   "source": [
    "PATH_TO_DATA = 'Data'\n",
    "TEST_FILE = 'looking_for_spy.csv'"
   ]
  },
  {
   "cell_type": "code",
   "execution_count": 3,
   "metadata": {
    "collapsed": true
   },
   "outputs": [],
   "source": [
    "def read_data(folder, file):\n",
    "    df = pd.read_csv(folder + '/' + file)\n",
    "    return df"
   ]
  },
  {
   "cell_type": "code",
   "execution_count": 4,
   "metadata": {
    "collapsed": true
   },
   "outputs": [],
   "source": [
    "spy_df = read_data(PATH_TO_DATA, TEST_FILE)"
   ]
  },
  {
   "cell_type": "code",
   "execution_count": 5,
   "metadata": {},
   "outputs": [
    {
     "data": {
      "text/html": [
       "<div>\n",
       "<style scoped>\n",
       "    .dataframe tbody tr th:only-of-type {\n",
       "        vertical-align: middle;\n",
       "    }\n",
       "\n",
       "    .dataframe tbody tr th {\n",
       "        vertical-align: top;\n",
       "    }\n",
       "\n",
       "    .dataframe thead th {\n",
       "        text-align: right;\n",
       "    }\n",
       "</style>\n",
       "<table border=\"1\" class=\"dataframe\">\n",
       "  <thead>\n",
       "    <tr style=\"text-align: right;\">\n",
       "      <th></th>\n",
       "      <th>Unnamed: 0</th>\n",
       "      <th>mcc</th>\n",
       "      <th>tranccy</th>\n",
       "      <th>ccy</th>\n",
       "      <th>amount</th>\n",
       "      <th>location</th>\n",
       "      <th>trandatetime</th>\n",
       "      <th>year</th>\n",
       "      <th>month</th>\n",
       "      <th>day</th>\n",
       "      <th>hour</th>\n",
       "      <th>country</th>\n",
       "      <th>city</th>\n",
       "      <th>institution</th>\n",
       "      <th>exchenge</th>\n",
       "    </tr>\n",
       "  </thead>\n",
       "  <tbody>\n",
       "    <tr>\n",
       "      <th>0</th>\n",
       "      <td>0</td>\n",
       "      <td>13</td>\n",
       "      <td>978</td>\n",
       "      <td>980</td>\n",
       "      <td>-0.123179</td>\n",
       "      <td>TRAMBESOS              SANT JOAN DES  ES</td>\n",
       "      <td>1385977762</td>\n",
       "      <td>2013</td>\n",
       "      <td>December</td>\n",
       "      <td>Monday</td>\n",
       "      <td>11</td>\n",
       "      <td>ES</td>\n",
       "      <td>no city</td>\n",
       "      <td>TRAMBESOS</td>\n",
       "      <td>1.0</td>\n",
       "    </tr>\n",
       "    <tr>\n",
       "      <th>1</th>\n",
       "      <td>1</td>\n",
       "      <td>44</td>\n",
       "      <td>978</td>\n",
       "      <td>980</td>\n",
       "      <td>-0.118505</td>\n",
       "      <td>ZARA BARCELONA P GRACIABARCELONA      ES</td>\n",
       "      <td>1385991764</td>\n",
       "      <td>2013</td>\n",
       "      <td>December</td>\n",
       "      <td>Monday</td>\n",
       "      <td>15</td>\n",
       "      <td>ES</td>\n",
       "      <td>BARCELONA</td>\n",
       "      <td>ZARA BARCELONA P GRACI</td>\n",
       "      <td>1.0</td>\n",
       "    </tr>\n",
       "    <tr>\n",
       "      <th>2</th>\n",
       "      <td>2</td>\n",
       "      <td>37</td>\n",
       "      <td>978</td>\n",
       "      <td>980</td>\n",
       "      <td>-0.110927</td>\n",
       "      <td>CAFE DE L'ACADEMIA     BARCELONA      ES</td>\n",
       "      <td>1385999148</td>\n",
       "      <td>2013</td>\n",
       "      <td>December</td>\n",
       "      <td>Monday</td>\n",
       "      <td>17</td>\n",
       "      <td>ES</td>\n",
       "      <td>BARCELONA</td>\n",
       "      <td>CAFE DE L'ACADEMIA</td>\n",
       "      <td>1.0</td>\n",
       "    </tr>\n",
       "    <tr>\n",
       "      <th>3</th>\n",
       "      <td>3</td>\n",
       "      <td>77</td>\n",
       "      <td>978</td>\n",
       "      <td>980</td>\n",
       "      <td>-0.110676</td>\n",
       "      <td>2D BCN DISSENY EN BIJUTBARCELONA      ES</td>\n",
       "      <td>1385999979</td>\n",
       "      <td>2013</td>\n",
       "      <td>December</td>\n",
       "      <td>Monday</td>\n",
       "      <td>17</td>\n",
       "      <td>ES</td>\n",
       "      <td>BARCELONA</td>\n",
       "      <td>2D BCN DISSENY EN BIJU</td>\n",
       "      <td>1.0</td>\n",
       "    </tr>\n",
       "    <tr>\n",
       "      <th>4</th>\n",
       "      <td>4</td>\n",
       "      <td>44</td>\n",
       "      <td>978</td>\n",
       "      <td>980</td>\n",
       "      <td>-0.083314</td>\n",
       "      <td>EL GANSO               BARCELONA      ES</td>\n",
       "      <td>1386005648</td>\n",
       "      <td>2013</td>\n",
       "      <td>December</td>\n",
       "      <td>Monday</td>\n",
       "      <td>19</td>\n",
       "      <td>ES</td>\n",
       "      <td>BARCELONA</td>\n",
       "      <td>EL GANSO</td>\n",
       "      <td>1.0</td>\n",
       "    </tr>\n",
       "  </tbody>\n",
       "</table>\n",
       "</div>"
      ],
      "text/plain": [
       "   Unnamed: 0 mcc  tranccy  ccy    amount  \\\n",
       "0           0  13      978  980 -0.123179   \n",
       "1           1  44      978  980 -0.118505   \n",
       "2           2  37      978  980 -0.110927   \n",
       "3           3  77      978  980 -0.110676   \n",
       "4           4  44      978  980 -0.083314   \n",
       "\n",
       "                                   location  trandatetime  year     month  \\\n",
       "0  TRAMBESOS              SANT JOAN DES  ES    1385977762  2013  December   \n",
       "1  ZARA BARCELONA P GRACIABARCELONA      ES    1385991764  2013  December   \n",
       "2  CAFE DE L'ACADEMIA     BARCELONA      ES    1385999148  2013  December   \n",
       "3  2D BCN DISSENY EN BIJUTBARCELONA      ES    1385999979  2013  December   \n",
       "4  EL GANSO               BARCELONA      ES    1386005648  2013  December   \n",
       "\n",
       "      day  hour country       city             institution  exchenge  \n",
       "0  Monday    11      ES    no city               TRAMBESOS       1.0  \n",
       "1  Monday    15      ES  BARCELONA  ZARA BARCELONA P GRACI       1.0  \n",
       "2  Monday    17      ES  BARCELONA      CAFE DE L'ACADEMIA       1.0  \n",
       "3  Monday    17      ES  BARCELONA  2D BCN DISSENY EN BIJU       1.0  \n",
       "4  Monday    19      ES  BARCELONA                EL GANSO       1.0  "
      ]
     },
     "execution_count": 5,
     "metadata": {},
     "output_type": "execute_result"
    }
   ],
   "source": [
    "spy_df.head()"
   ]
  },
  {
   "cell_type": "code",
   "execution_count": 6,
   "metadata": {},
   "outputs": [
    {
     "data": {
      "text/plain": [
       "array([2013, 2014, 2015], dtype=int64)"
      ]
     },
     "execution_count": 6,
     "metadata": {},
     "output_type": "execute_result"
    }
   ],
   "source": [
    "spy_df['year'].unique()"
   ]
  },
  {
   "cell_type": "code",
   "execution_count": 8,
   "metadata": {
    "collapsed": true
   },
   "outputs": [],
   "source": [
    "year_selected = spy_df[spy_df['year'] == 2015]"
   ]
  },
  {
   "cell_type": "code",
   "execution_count": 9,
   "metadata": {},
   "outputs": [
    {
     "name": "stdout",
     "output_type": "stream",
     "text": [
      "<class 'pandas.core.frame.DataFrame'>\n",
      "Int64Index: 57846 entries, 33928 to 92699\n",
      "Data columns (total 15 columns):\n",
      "Unnamed: 0      57846 non-null int64\n",
      "mcc             57846 non-null object\n",
      "tranccy         57846 non-null int64\n",
      "ccy             57846 non-null int64\n",
      "amount          57845 non-null float64\n",
      "location        57846 non-null object\n",
      "trandatetime    57846 non-null int64\n",
      "year            57846 non-null int64\n",
      "month           57846 non-null object\n",
      "day             57846 non-null object\n",
      "hour            57846 non-null int64\n",
      "country         57846 non-null object\n",
      "city            57846 non-null object\n",
      "institution     57846 non-null object\n",
      "exchenge        57846 non-null float64\n",
      "dtypes: float64(2), int64(6), object(7)\n",
      "memory usage: 7.1+ MB\n"
     ]
    }
   ],
   "source": [
    "year_selected.info()"
   ]
  },
  {
   "cell_type": "code",
   "execution_count": 10,
   "metadata": {},
   "outputs": [
    {
     "data": {
      "text/plain": [
       "array(['January', 'February', 'March', 'April', 'May', 'June', 'July'], dtype=object)"
      ]
     },
     "execution_count": 10,
     "metadata": {},
     "output_type": "execute_result"
    }
   ],
   "source": [
    "year_selected['month'].unique()"
   ]
  },
  {
   "cell_type": "code",
   "execution_count": 12,
   "metadata": {},
   "outputs": [],
   "source": [
    "month_selected = year_selected[year_selected['month']=='July']"
   ]
  },
  {
   "cell_type": "code",
   "execution_count": 13,
   "metadata": {},
   "outputs": [
    {
     "data": {
      "text/html": [
       "<div>\n",
       "<style scoped>\n",
       "    .dataframe tbody tr th:only-of-type {\n",
       "        vertical-align: middle;\n",
       "    }\n",
       "\n",
       "    .dataframe tbody tr th {\n",
       "        vertical-align: top;\n",
       "    }\n",
       "\n",
       "    .dataframe thead th {\n",
       "        text-align: right;\n",
       "    }\n",
       "</style>\n",
       "<table border=\"1\" class=\"dataframe\">\n",
       "  <thead>\n",
       "    <tr style=\"text-align: right;\">\n",
       "      <th></th>\n",
       "      <th>Unnamed: 0</th>\n",
       "      <th>mcc</th>\n",
       "      <th>tranccy</th>\n",
       "      <th>ccy</th>\n",
       "      <th>amount</th>\n",
       "      <th>location</th>\n",
       "      <th>trandatetime</th>\n",
       "      <th>year</th>\n",
       "      <th>month</th>\n",
       "      <th>day</th>\n",
       "      <th>hour</th>\n",
       "      <th>country</th>\n",
       "      <th>city</th>\n",
       "      <th>institution</th>\n",
       "      <th>exchenge</th>\n",
       "    </tr>\n",
       "  </thead>\n",
       "  <tbody>\n",
       "    <tr>\n",
       "      <th>84315</th>\n",
       "      <td>84315</td>\n",
       "      <td>34</td>\n",
       "      <td>980</td>\n",
       "      <td>980</td>\n",
       "      <td>-0.134598</td>\n",
       "      <td>DN00/Gorkogo str., 176 KIEV           UA</td>\n",
       "      <td>1435734537</td>\n",
       "      <td>2015</td>\n",
       "      <td>July</td>\n",
       "      <td>Wednesday</td>\n",
       "      <td>10</td>\n",
       "      <td>UA</td>\n",
       "      <td>KYIV</td>\n",
       "      <td>DN00/Gorkogo str., 176</td>\n",
       "      <td>0.0</td>\n",
       "    </tr>\n",
       "    <tr>\n",
       "      <th>84316</th>\n",
       "      <td>84316</td>\n",
       "      <td>34</td>\n",
       "      <td>980</td>\n",
       "      <td>980</td>\n",
       "      <td>-0.165567</td>\n",
       "      <td>DN00/Syrovtsa str.,27/2DNEPRODZER-SK  UA</td>\n",
       "      <td>1435739733</td>\n",
       "      <td>2015</td>\n",
       "      <td>July</td>\n",
       "      <td>Wednesday</td>\n",
       "      <td>11</td>\n",
       "      <td>UA</td>\n",
       "      <td>DNDZERZHYNSK</td>\n",
       "      <td>DN00/Syrovtsa str.,27/</td>\n",
       "      <td>0.0</td>\n",
       "    </tr>\n",
       "    <tr>\n",
       "      <th>84317</th>\n",
       "      <td>84317</td>\n",
       "      <td>34</td>\n",
       "      <td>980</td>\n",
       "      <td>980</td>\n",
       "      <td>-0.165567</td>\n",
       "      <td>DN00/Syrovtsa str.,27/2DNEPRODZER-SK  UA</td>\n",
       "      <td>1435739781</td>\n",
       "      <td>2015</td>\n",
       "      <td>July</td>\n",
       "      <td>Wednesday</td>\n",
       "      <td>11</td>\n",
       "      <td>UA</td>\n",
       "      <td>DNDZERZHYNSK</td>\n",
       "      <td>DN00/Syrovtsa str.,27/</td>\n",
       "      <td>0.0</td>\n",
       "    </tr>\n",
       "    <tr>\n",
       "      <th>84318</th>\n",
       "      <td>84318</td>\n",
       "      <td>34</td>\n",
       "      <td>980</td>\n",
       "      <td>980</td>\n",
       "      <td>-0.165567</td>\n",
       "      <td>DN00/Syrovtsa str.,27/2DNEPRODZER-SK  UA</td>\n",
       "      <td>1435739815</td>\n",
       "      <td>2015</td>\n",
       "      <td>July</td>\n",
       "      <td>Wednesday</td>\n",
       "      <td>11</td>\n",
       "      <td>UA</td>\n",
       "      <td>DNDZERZHYNSK</td>\n",
       "      <td>DN00/Syrovtsa str.,27/</td>\n",
       "      <td>0.0</td>\n",
       "    </tr>\n",
       "    <tr>\n",
       "      <th>84319</th>\n",
       "      <td>84319</td>\n",
       "      <td>34</td>\n",
       "      <td>980</td>\n",
       "      <td>980</td>\n",
       "      <td>-0.165567</td>\n",
       "      <td>DN00/Syrovtsa str.,27/2DNEPRODZER-SK  UA</td>\n",
       "      <td>1435739848</td>\n",
       "      <td>2015</td>\n",
       "      <td>July</td>\n",
       "      <td>Wednesday</td>\n",
       "      <td>11</td>\n",
       "      <td>UA</td>\n",
       "      <td>DNDZERZHYNSK</td>\n",
       "      <td>DN00/Syrovtsa str.,27/</td>\n",
       "      <td>0.0</td>\n",
       "    </tr>\n",
       "  </tbody>\n",
       "</table>\n",
       "</div>"
      ],
      "text/plain": [
       "       Unnamed: 0 mcc  tranccy  ccy    amount  \\\n",
       "84315       84315  34      980  980 -0.134598   \n",
       "84316       84316  34      980  980 -0.165567   \n",
       "84317       84317  34      980  980 -0.165567   \n",
       "84318       84318  34      980  980 -0.165567   \n",
       "84319       84319  34      980  980 -0.165567   \n",
       "\n",
       "                                       location  trandatetime  year month  \\\n",
       "84315  DN00/Gorkogo str., 176 KIEV           UA    1435734537  2015  July   \n",
       "84316  DN00/Syrovtsa str.,27/2DNEPRODZER-SK  UA    1435739733  2015  July   \n",
       "84317  DN00/Syrovtsa str.,27/2DNEPRODZER-SK  UA    1435739781  2015  July   \n",
       "84318  DN00/Syrovtsa str.,27/2DNEPRODZER-SK  UA    1435739815  2015  July   \n",
       "84319  DN00/Syrovtsa str.,27/2DNEPRODZER-SK  UA    1435739848  2015  July   \n",
       "\n",
       "             day  hour country          city             institution  exchenge  \n",
       "84315  Wednesday    10      UA          KYIV  DN00/Gorkogo str., 176       0.0  \n",
       "84316  Wednesday    11      UA  DNDZERZHYNSK  DN00/Syrovtsa str.,27/       0.0  \n",
       "84317  Wednesday    11      UA  DNDZERZHYNSK  DN00/Syrovtsa str.,27/       0.0  \n",
       "84318  Wednesday    11      UA  DNDZERZHYNSK  DN00/Syrovtsa str.,27/       0.0  \n",
       "84319  Wednesday    11      UA  DNDZERZHYNSK  DN00/Syrovtsa str.,27/       0.0  "
      ]
     },
     "execution_count": 13,
     "metadata": {},
     "output_type": "execute_result"
    }
   ],
   "source": [
    "month_selected.head()"
   ]
  },
  {
   "cell_type": "code",
   "execution_count": 16,
   "metadata": {
    "collapsed": true
   },
   "outputs": [],
   "source": [
    "country_selected = month_selected[month_selected['country']=='UA']"
   ]
  },
  {
   "cell_type": "code",
   "execution_count": 18,
   "metadata": {},
   "outputs": [
    {
     "name": "stdout",
     "output_type": "stream",
     "text": [
      "<class 'pandas.core.frame.DataFrame'>\n",
      "Int64Index: 7081 entries, 84315 to 92699\n",
      "Data columns (total 15 columns):\n",
      "Unnamed: 0      7081 non-null int64\n",
      "mcc             7081 non-null object\n",
      "tranccy         7081 non-null int64\n",
      "ccy             7081 non-null int64\n",
      "amount          7081 non-null float64\n",
      "location        7081 non-null object\n",
      "trandatetime    7081 non-null int64\n",
      "year            7081 non-null int64\n",
      "month           7081 non-null object\n",
      "day             7081 non-null object\n",
      "hour            7081 non-null int64\n",
      "country         7081 non-null object\n",
      "city            7081 non-null object\n",
      "institution     7081 non-null object\n",
      "exchenge        7081 non-null float64\n",
      "dtypes: float64(2), int64(6), object(7)\n",
      "memory usage: 885.1+ KB\n"
     ]
    }
   ],
   "source": [
    "country_selected.info()"
   ]
  }
 ],
 "metadata": {
  "kernelspec": {
   "display_name": "Python 3",
   "language": "python",
   "name": "python3"
  },
  "language_info": {
   "codemirror_mode": {
    "name": "ipython",
    "version": 3
   },
   "file_extension": ".py",
   "mimetype": "text/x-python",
   "name": "python",
   "nbconvert_exporter": "python",
   "pygments_lexer": "ipython3",
   "version": "3.6.6"
  }
 },
 "nbformat": 4,
 "nbformat_minor": 2
}
